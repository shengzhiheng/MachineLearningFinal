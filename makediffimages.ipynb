{
 "cells": [
  {
   "cell_type": "code",
   "execution_count": null,
   "metadata": {
    "execution": {
     "iopub.execute_input": "2020-05-11T03:39:39.595Z",
     "iopub.status.busy": "2020-05-11T03:39:38.374Z",
     "iopub.status.idle": "2020-05-11T03:39:40.018Z"
    },
    "jupyter": {
     "outputs_hidden": false,
     "source_hidden": false
    },
    "nteract": {
     "transient": {
      "deleting": false
     }
    },
    "outputExpanded": false
   },
   "outputs": [],
   "source": [
    "import numpy as np\n",
    "import pandas as pd\n",
    "import os\n",
    "from PIL import Image\n",
    "import PIL"
   ]
  },
  {
   "cell_type": "code",
   "execution_count": null,
   "metadata": {
    "execution": {
     "iopub.execute_input": "2020-05-11T03:39:40.029Z",
     "iopub.status.busy": "2020-05-11T03:39:40.024Z",
     "iopub.status.idle": "2020-05-11T03:39:40.037Z"
    },
    "jupyter": {
     "outputs_hidden": false,
     "source_hidden": false
    },
    "nteract": {
     "transient": {
      "deleting": false
     }
    },
    "outputExpanded": false
   },
   "outputs": [],
   "source": [
    "path = os.path.join('D:\\\\','OneDrive - Northwestern University','CURRENT', '3 - Machine Learning', 'bubbleimages')\n",
    "bubnum = pd.read_csv(os.path.join(path, 'bubnums.csv'), names=['event', 'nbub'])\n",
    "bubnum = np.array(bubnum)"
   ]
  },
  {
   "cell_type": "code",
   "execution_count": null,
   "metadata": {
    "jupyter": {
     "outputs_hidden": false,
     "source_hidden": false
    },
    "nteract": {
     "transient": {
      "deleting": false
     }
    },
    "outputExpanded": false
   },
   "outputs": [],
   "source": [
    "for row in bubnum:\n",
    "    try: \n",
    "        img = Image.open(os.path.join(path, 'trig', row[0]+'_trig.bmp'))\n",
    "        nextimg = Image.open(os.path.join(path, 'next', row[0]+'_next.bmp'))\n",
    "        diff = PIL.ImageChops.invert(PIL.ImageChops.difference(img, nextimg))\n",
    "        diff.save(os.path.join(path,'diff',row[0]+'_diff.bmp'))\n",
    "        img.close()\n",
    "        nextimg.close()\n",
    "        diff.close()\n",
    "    except FileNotFoundError: continue"
   ]
  }
 ],
 "metadata": {
  "kernel_info": {
   "name": "julia-1.4"
  },
  "kernelspec": {
   "display_name": "Python 3",
   "language": "python",
   "name": "python3"
  },
  "language_info": {
   "codemirror_mode": {
    "name": "ipython",
    "version": 3
   },
   "file_extension": ".py",
   "mimetype": "text/x-python",
   "name": "python",
   "nbconvert_exporter": "python",
   "pygments_lexer": "ipython3",
   "version": "3.7.7"
  },
  "nteract": {
   "version": "0.23.1"
  }
 },
 "nbformat": 4,
 "nbformat_minor": 1
}
