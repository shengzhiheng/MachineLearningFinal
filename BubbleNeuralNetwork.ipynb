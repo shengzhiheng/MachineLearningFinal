{
 "cells": [
  {
   "cell_type": "code",
   "execution_count": 9,
   "metadata": {},
   "outputs": [],
   "source": [
    "import os\n",
    "import numpy as np\n",
    "import pandas as pd\n",
    "import pickle as pkl\n",
    "import imageio\n",
    "import tensorflow as tf\n",
    "from sklearn.model_selection import train_test_split\n",
    "from sklearn.metrics import confusion_matrix\n",
    "from PIL import Image\n",
    "import PIL\n",
    "from astropy.nddata.utils import Cutout2D\n",
    "from scipy import ndimage\n",
    "import time\n",
    "import matplotlib.pyplot as plt"
   ]
  },
  {
   "cell_type": "code",
   "execution_count": 2,
   "metadata": {},
   "outputs": [],
   "source": [
    "# define functions to normalize image\n",
    "def normalize(arr):\n",
    "    arr = np.array(arr)\n",
    "    arr = arr - np.min(arr)\n",
    "    arr = arr / np.max(arr)\n",
    "    return np.array(arr)\n",
    "\n",
    "def gaussian_normalize(arr):\n",
    "    arr = np.array(arr)\n",
    "    arr = arr - np.mean(arr)\n",
    "    arr = arr / np.std(arr)\n",
    "    return np.array(arr)"
   ]
  },
  {
   "cell_type": "markdown",
   "metadata": {},
   "source": [
    "# Bubble or no bubble"
   ]
  },
  {
   "cell_type": "code",
   "execution_count": 3,
   "metadata": {},
   "outputs": [
    {
     "name": "stdout",
     "output_type": "stream",
     "text": [
      "(23334, 3) (23334,)\n",
      "(18667, 3) (4667, 3) (18667,) (4667,)\n"
     ]
    }
   ],
   "source": [
    "df = pkl.load(open(\"FeaturesDataFrame.p\", \"rb\"))\n",
    "df = df.query('not (bubblecount == -1 & blobpeakfeature > 1)').copy()\n",
    "df.reset_index(drop=True, inplace=True)\n",
    "y = 1-(np.array(df['bubblecount'])<=0)\n",
    "x = np.array(df[['edgefeature', 'blobfeature', 'blobpeakfeature']])\n",
    "for i in range(3):\n",
    "    x[:,i] = gaussian_normalize(x[:,i])\n",
    "print(x.shape, y.shape)\n",
    "x_train, x_test, y_train, y_test = train_test_split(x, y, test_size=0.2)\n",
    "print(x_train.shape, x_test.shape, y_train.shape, y_test.shape)"
   ]
  },
  {
   "cell_type": "code",
   "execution_count": 10,
   "metadata": {},
   "outputs": [],
   "source": [
    "model = tf.keras.Sequential([\n",
    "    tf.keras.layers.Dense(8, activation=tf.nn.relu, input_shape=(3,)),\n",
    "    tf.keras.layers.Dense(2)\n",
    "])"
   ]
  },
  {
   "cell_type": "code",
   "execution_count": 5,
   "metadata": {},
   "outputs": [
    {
     "name": "stdout",
     "output_type": "stream",
     "text": [
      "Epoch 1/20\n",
      "18667/18667 [==============================] - 0s 15us/sample - loss: 0.3318 - acc: 0.8829\n",
      "Epoch 2/20\n",
      "18667/18667 [==============================] - 0s 12us/sample - loss: 0.1687 - acc: 0.9501\n",
      "Epoch 3/20\n",
      "18667/18667 [==============================] - 0s 12us/sample - loss: 0.1602 - acc: 0.9540\n",
      "Epoch 4/20\n",
      "18667/18667 [==============================] - 0s 13us/sample - loss: 0.1559 - acc: 0.9558\n",
      "Epoch 5/20\n",
      "18667/18667 [==============================] - 0s 13us/sample - loss: 0.1527 - acc: 0.9570\n",
      "Epoch 6/20\n",
      "18667/18667 [==============================] - 0s 13us/sample - loss: 0.1501 - acc: 0.9582\n",
      "Epoch 7/20\n",
      "18667/18667 [==============================] - 0s 12us/sample - loss: 0.1479 - acc: 0.9594\n",
      "Epoch 8/20\n",
      "18667/18667 [==============================] - 0s 12us/sample - loss: 0.1462 - acc: 0.9598\n",
      "Epoch 9/20\n",
      "18667/18667 [==============================] - 0s 13us/sample - loss: 0.1448 - acc: 0.9601\n",
      "Epoch 10/20\n",
      "18667/18667 [==============================] - 0s 12us/sample - loss: 0.1437 - acc: 0.9599\n",
      "Epoch 11/20\n",
      "18667/18667 [==============================] - 0s 12us/sample - loss: 0.1429 - acc: 0.9606\n",
      "Epoch 12/20\n",
      "18667/18667 [==============================] - 0s 12us/sample - loss: 0.1422 - acc: 0.9605\n",
      "Epoch 13/20\n",
      "18667/18667 [==============================] - 0s 12us/sample - loss: 0.1417 - acc: 0.9606\n",
      "Epoch 14/20\n",
      "18667/18667 [==============================] - 0s 13us/sample - loss: 0.1412 - acc: 0.9609\n",
      "Epoch 15/20\n",
      "18667/18667 [==============================] - 0s 12us/sample - loss: 0.1408 - acc: 0.9611\n",
      "Epoch 16/20\n",
      "18667/18667 [==============================] - 0s 12us/sample - loss: 0.1405 - acc: 0.9609\n",
      "Epoch 17/20\n",
      "18667/18667 [==============================] - 0s 12us/sample - loss: 0.1403 - acc: 0.9609\n",
      "Epoch 18/20\n",
      "18667/18667 [==============================] - 0s 13us/sample - loss: 0.1403 - acc: 0.9612\n",
      "Epoch 19/20\n",
      "18667/18667 [==============================] - 0s 12us/sample - loss: 0.1401 - acc: 0.9608\n",
      "Epoch 20/20\n",
      "18667/18667 [==============================] - 0s 12us/sample - loss: 0.1401 - acc: 0.9608\n",
      "\n",
      "Loss: 0.1353, Accuracy: 0.9623\n",
      "[[3182   53]\n",
      " [ 123 1309]]\n"
     ]
    }
   ],
   "source": [
    "model.compile(optimizer = 'adam', \n",
    "               loss = tf.keras.losses.SparseCategoricalCrossentropy(from_logits = True),\n",
    "               metrics = [\"accuracy\"])\n",
    "model.fit(x_train,y_train,epochs = 20)\n",
    "test_accuracy = model.evaluate(x_test, y_test, verbose = 3)\n",
    "print(\"\\nLoss: %.4f, Accuracy: %.4f\"%tuple(test_accuracy))\n",
    "y_pred = model.predict_classes(x_test)\n",
    "print(confusion_matrix(y_test,y_pred))"
   ]
  },
  {
   "cell_type": "markdown",
   "metadata": {},
   "source": [
    "# Number of bubbles"
   ]
  },
  {
   "cell_type": "code",
   "execution_count": 6,
   "metadata": {},
   "outputs": [
    {
     "name": "stdout",
     "output_type": "stream",
     "text": [
      "(23334, 3) (23334,)\n",
      "(18667, 3) (4667, 3) (18667,) (4667,)\n"
     ]
    }
   ],
   "source": [
    "df = pkl.load(open(\"FeaturesDataFrame.p\", \"rb\"))\n",
    "df = df.query('not (bubblecount == -1 & blobpeakfeature > 1)').copy()\n",
    "df.reset_index(drop=True, inplace=True)\n",
    "y = np.array(df['bubblecount'])+1\n",
    "x = np.array(df[['edgefeature', 'blobfeature', 'blobpeakfeature']])\n",
    "for i in range(3):\n",
    "    x[:,i] = gaussian_normalize(x[:,i])\n",
    "print(x.shape, y.shape)\n",
    "x_train, x_test, y_train, y_test = train_test_split(x, y, test_size=0.2)\n",
    "print(x_train.shape, x_test.shape, y_train.shape, y_test.shape)"
   ]
  },
  {
   "cell_type": "code",
   "execution_count": 7,
   "metadata": {},
   "outputs": [],
   "source": [
    "model = tf.keras.Sequential([\n",
    "    tf.keras.layers.Dense(8, activation=tf.nn.relu, input_shape=(3,)),\n",
    "    tf.keras.layers.Dense(6)\n",
    "])"
   ]
  },
  {
   "cell_type": "code",
   "execution_count": 8,
   "metadata": {},
   "outputs": [
    {
     "name": "stdout",
     "output_type": "stream",
     "text": [
      "Epoch 1/20\n",
      "18667/18667 [==============================] - 0s 15us/sample - loss: 0.6829 - acc: 0.8748\n",
      "Epoch 2/20\n",
      "18667/18667 [==============================] - 0s 13us/sample - loss: 0.3046 - acc: 0.9365\n",
      "Epoch 3/20\n",
      "18667/18667 [==============================] - 0s 13us/sample - loss: 0.2677 - acc: 0.9401\n",
      "Epoch 4/20\n",
      "18667/18667 [==============================] - 0s 13us/sample - loss: 0.2454 - acc: 0.9411\n",
      "Epoch 5/20\n",
      "18667/18667 [==============================] - 0s 13us/sample - loss: 0.2271 - acc: 0.9414\n",
      "Epoch 6/20\n",
      "18667/18667 [==============================] - 0s 13us/sample - loss: 0.2140 - acc: 0.9433\n",
      "Epoch 7/20\n",
      "18667/18667 [==============================] - 0s 13us/sample - loss: 0.2083 - acc: 0.9469\n",
      "Epoch 8/20\n",
      "18667/18667 [==============================] - 0s 13us/sample - loss: 0.2056 - acc: 0.9478\n",
      "Epoch 9/20\n",
      "18667/18667 [==============================] - 0s 13us/sample - loss: 0.2040 - acc: 0.9483\n",
      "Epoch 10/20\n",
      "18667/18667 [==============================] - 0s 14us/sample - loss: 0.2031 - acc: 0.9483\n",
      "Epoch 11/20\n",
      "18667/18667 [==============================] - 0s 13us/sample - loss: 0.2025 - acc: 0.9484\n",
      "Epoch 12/20\n",
      "18667/18667 [==============================] - 0s 13us/sample - loss: 0.2015 - acc: 0.9486\n",
      "Epoch 13/20\n",
      "18667/18667 [==============================] - 0s 13us/sample - loss: 0.2012 - acc: 0.9487\n",
      "Epoch 14/20\n",
      "18667/18667 [==============================] - 0s 13us/sample - loss: 0.2007 - acc: 0.9488\n",
      "Epoch 15/20\n",
      "18667/18667 [==============================] - 0s 13us/sample - loss: 0.2003 - acc: 0.9489\n",
      "Epoch 16/20\n",
      "18667/18667 [==============================] - 0s 13us/sample - loss: 0.2000 - acc: 0.9489\n",
      "Epoch 17/20\n",
      "18667/18667 [==============================] - 0s 13us/sample - loss: 0.1997 - acc: 0.9494\n",
      "Epoch 18/20\n",
      "18667/18667 [==============================] - 0s 13us/sample - loss: 0.1994 - acc: 0.9490\n",
      "Epoch 19/20\n",
      "18667/18667 [==============================] - 0s 13us/sample - loss: 0.1991 - acc: 0.9485\n",
      "Epoch 20/20\n",
      "18667/18667 [==============================] - 0s 13us/sample - loss: 0.1990 - acc: 0.9490\n",
      "\n",
      "Loss: 0.2295, Accuracy: 0.9396\n",
      "[[3110    0   16    0    0]\n",
      " [  11   20   51    0    0]\n",
      " [ 139    0 1253    0    0]\n",
      " [   2    0   61    2    0]\n",
      " [   0    0    2    0    0]]\n"
     ]
    }
   ],
   "source": [
    "model.compile(optimizer = 'adam', \n",
    "               loss = tf.keras.losses.SparseCategoricalCrossentropy(from_logits = True),\n",
    "               metrics = [\"accuracy\"])\n",
    "model.fit(x_train,y_train,epochs = 20)\n",
    "test_accuracy = model.evaluate(x_test, y_test, verbose = 3)\n",
    "print(\"\\nLoss: %.4f, Accuracy: %.4f\"%tuple(test_accuracy))\n",
    "y_pred = model.predict_classes(x_test)\n",
    "print(confusion_matrix(y_test,y_pred))"
   ]
  },
  {
   "cell_type": "code",
   "execution_count": null,
   "metadata": {},
   "outputs": [],
   "source": []
  }
 ],
 "metadata": {
  "kernelspec": {
   "display_name": "Python 3",
   "language": "python",
   "name": "python3"
  },
  "language_info": {
   "codemirror_mode": {
    "name": "ipython",
    "version": 3
   },
   "file_extension": ".py",
   "mimetype": "text/x-python",
   "name": "python",
   "nbconvert_exporter": "python",
   "pygments_lexer": "ipython3",
   "version": "3.7.7"
  }
 },
 "nbformat": 4,
 "nbformat_minor": 4
}
