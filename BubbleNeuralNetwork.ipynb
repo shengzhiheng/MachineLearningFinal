{
 "cells": [
  {
   "cell_type": "code",
   "execution_count": 2,
   "metadata": {},
   "outputs": [],
   "source": [
    "import os\n",
    "import numpy as np\n",
    "import pandas as pd\n",
    "import pickle as pkl\n",
    "import imageio\n",
    "import tensorflow as tf\n",
    "from sklearn.model_selection import train_test_split\n",
    "from sklearn.metrics import confusion_matrix\n",
    "from PIL import Image\n",
    "import PIL\n",
    "from astropy.nddata.utils import Cutout2D\n",
    "from scipy import ndimage\n",
    "import time\n",
    "import matplotlib.pyplot as plt"
   ]
  },
  {
   "cell_type": "code",
   "execution_count": 3,
   "metadata": {},
   "outputs": [],
   "source": [
    "# define functions to normalize image\n",
    "def normalize(arr):\n",
    "    arr = np.array(arr)\n",
    "    arr = arr - np.min(arr)\n",
    "    arr = arr / np.max(arr)\n",
    "    return np.array(arr)\n",
    "\n",
    "def gaussian_normalize(arr):\n",
    "    arr = np.array(arr)\n",
    "    arr = arr - np.mean(arr)\n",
    "    arr = arr / np.std(arr)\n",
    "    return np.array(arr)"
   ]
  },
  {
   "cell_type": "markdown",
   "metadata": {},
   "source": [
    "# Bubble or no bubble"
   ]
  },
  {
   "cell_type": "code",
   "execution_count": 4,
   "metadata": {},
   "outputs": [
    {
     "name": "stdout",
     "output_type": "stream",
     "text": [
      "(23334, 3) (23334,)\n",
      "(18667, 3) (4667, 3) (18667,) (4667,)\n"
     ]
    }
   ],
   "source": [
    "df = pkl.load(open(\"FeaturesDataFrame.p\", \"rb\"))\n",
    "df = df.query('not (bubblecount == -1 & blobpeakfeature > 1)').copy()\n",
    "df.reset_index(drop=True, inplace=True)\n",
    "y = 1-(np.array(df['bubblecount'])<=0)\n",
    "x = np.array(df[['edgefeature', 'blobfeature', 'blobpeakfeature']])\n",
    "for i in range(3):\n",
    "    x[:,i] = gaussian_normalize(x[:,i])\n",
    "print(x.shape, y.shape)\n",
    "x_train, x_test, y_train, y_test = train_test_split(x, y, test_size=0.2)\n",
    "print(x_train.shape, x_test.shape, y_train.shape, y_test.shape)"
   ]
  },
  {
   "cell_type": "code",
   "execution_count": 6,
   "metadata": {},
   "outputs": [],
   "source": [
    "model = tf.keras.Sequential([\n",
    "    tf.keras.layers.Dense(8, activation=tf.nn.relu, input_shape=(3,)),\n",
    "    tf.keras.layers.Dense(2)\n",
    "])"
   ]
  },
  {
   "cell_type": "code",
   "execution_count": 7,
   "metadata": {},
   "outputs": [
    {
     "name": "stdout",
     "output_type": "stream",
     "text": [
      "Epoch 1/20\n",
      "18667/18667 - 0s - loss: 0.2934 - acc: 0.8912\n",
      "Epoch 2/20\n",
      "18667/18667 - 0s - loss: 0.1727 - acc: 0.9471\n",
      "Epoch 3/20\n",
      "18667/18667 - 0s - loss: 0.1634 - acc: 0.9516\n",
      "Epoch 4/20\n",
      "18667/18667 - 0s - loss: 0.1581 - acc: 0.9547\n",
      "Epoch 5/20\n",
      "18667/18667 - 0s - loss: 0.1543 - acc: 0.9560\n",
      "Epoch 6/20\n",
      "18667/18667 - 0s - loss: 0.1510 - acc: 0.9578\n",
      "Epoch 7/20\n",
      "18667/18667 - 0s - loss: 0.1482 - acc: 0.9585\n",
      "Epoch 8/20\n",
      "18667/18667 - 0s - loss: 0.1463 - acc: 0.9591\n",
      "Epoch 9/20\n",
      "18667/18667 - 0s - loss: 0.1448 - acc: 0.9596\n",
      "Epoch 10/20\n",
      "18667/18667 - 0s - loss: 0.1438 - acc: 0.9597\n",
      "Epoch 11/20\n",
      "18667/18667 - 0s - loss: 0.1429 - acc: 0.9604\n",
      "Epoch 12/20\n",
      "18667/18667 - 0s - loss: 0.1424 - acc: 0.9604\n",
      "Epoch 13/20\n",
      "18667/18667 - 0s - loss: 0.1421 - acc: 0.9605\n",
      "Epoch 14/20\n",
      "18667/18667 - 0s - loss: 0.1417 - acc: 0.9603\n",
      "Epoch 15/20\n",
      "18667/18667 - 0s - loss: 0.1415 - acc: 0.9608\n",
      "Epoch 16/20\n",
      "18667/18667 - 0s - loss: 0.1413 - acc: 0.9605\n",
      "Epoch 17/20\n",
      "18667/18667 - 0s - loss: 0.1411 - acc: 0.9608\n",
      "Epoch 18/20\n",
      "18667/18667 - 0s - loss: 0.1410 - acc: 0.9605\n",
      "Epoch 19/20\n",
      "18667/18667 - 0s - loss: 0.1408 - acc: 0.9605\n",
      "Epoch 20/20\n",
      "18667/18667 - 0s - loss: 0.1406 - acc: 0.9604\n",
      "\n",
      "Loss: 0.1279, Accuracy: 0.9649\n",
      "[[3164   46]\n",
      " [ 118 1339]]\n"
     ]
    }
   ],
   "source": [
    "model.compile(optimizer = 'adam', \n",
    "               loss = tf.keras.losses.SparseCategoricalCrossentropy(from_logits = True),\n",
    "               metrics = [\"accuracy\"])\n",
    "model.fit(x_train,y_train,epochs = 20, verbose=2)\n",
    "test_accuracy = model.evaluate(x_test, y_test, verbose = 3)\n",
    "print(\"\\nLoss: %.4f, Accuracy: %.4f\"%tuple(test_accuracy))\n",
    "y_pred = model.predict_classes(x_test)\n",
    "print(confusion_matrix(y_test,y_pred))"
   ]
  },
  {
   "cell_type": "markdown",
   "metadata": {},
   "source": [
    "# Number of bubbles"
   ]
  },
  {
   "cell_type": "code",
   "execution_count": 8,
   "metadata": {},
   "outputs": [
    {
     "name": "stdout",
     "output_type": "stream",
     "text": [
      "(23334, 3) (23334,)\n",
      "(18667, 3) (4667, 3) (18667,) (4667,)\n"
     ]
    }
   ],
   "source": [
    "df = pkl.load(open(\"FeaturesDataFrame.p\", \"rb\"))\n",
    "df = df.query('not (bubblecount == -1 & blobpeakfeature > 1)').copy()\n",
    "df.reset_index(drop=True, inplace=True)\n",
    "y = np.array(df['bubblecount'])+1\n",
    "x = np.array(df[['edgefeature', 'blobfeature', 'blobpeakfeature']])\n",
    "for i in range(3):\n",
    "    x[:,i] = gaussian_normalize(x[:,i])\n",
    "print(x.shape, y.shape)\n",
    "x_train, x_test, y_train, y_test = train_test_split(x, y, test_size=0.2)\n",
    "print(x_train.shape, x_test.shape, y_train.shape, y_test.shape)"
   ]
  },
  {
   "cell_type": "code",
   "execution_count": 9,
   "metadata": {},
   "outputs": [],
   "source": [
    "model = tf.keras.Sequential([\n",
    "    tf.keras.layers.Dense(8, activation=tf.nn.relu, input_shape=(3,)),\n",
    "    tf.keras.layers.Dense(6)\n",
    "])"
   ]
  },
  {
   "cell_type": "code",
   "execution_count": 10,
   "metadata": {},
   "outputs": [
    {
     "name": "stdout",
     "output_type": "stream",
     "text": [
      "Epoch 1/20\n",
      "18667/18667 - 0s - loss: 0.6437 - acc: 0.8724\n",
      "Epoch 2/20\n",
      "18667/18667 - 0s - loss: 0.3176 - acc: 0.9330\n",
      "Epoch 3/20\n",
      "18667/18667 - 0s - loss: 0.2822 - acc: 0.9359\n",
      "Epoch 4/20\n",
      "18667/18667 - 0s - loss: 0.2596 - acc: 0.9363\n",
      "Epoch 5/20\n",
      "18667/18667 - 0s - loss: 0.2408 - acc: 0.9379\n",
      "Epoch 6/20\n",
      "18667/18667 - 0s - loss: 0.2269 - acc: 0.9394\n",
      "Epoch 7/20\n",
      "18667/18667 - 0s - loss: 0.2187 - acc: 0.9438\n",
      "Epoch 8/20\n",
      "18667/18667 - 0s - loss: 0.2145 - acc: 0.9452\n",
      "Epoch 9/20\n",
      "18667/18667 - 0s - loss: 0.2117 - acc: 0.9458\n",
      "Epoch 10/20\n",
      "18667/18667 - 0s - loss: 0.2098 - acc: 0.9459\n",
      "Epoch 11/20\n",
      "18667/18667 - 0s - loss: 0.2084 - acc: 0.9464\n",
      "Epoch 12/20\n",
      "18667/18667 - 0s - loss: 0.2072 - acc: 0.9469\n",
      "Epoch 13/20\n",
      "18667/18667 - 0s - loss: 0.2064 - acc: 0.9468\n",
      "Epoch 14/20\n",
      "18667/18667 - 0s - loss: 0.2061 - acc: 0.9469\n",
      "Epoch 15/20\n",
      "18667/18667 - 0s - loss: 0.2055 - acc: 0.9470\n",
      "Epoch 16/20\n",
      "18667/18667 - 0s - loss: 0.2050 - acc: 0.9471\n",
      "Epoch 17/20\n",
      "18667/18667 - 0s - loss: 0.2047 - acc: 0.9471\n",
      "Epoch 18/20\n",
      "18667/18667 - 0s - loss: 0.2045 - acc: 0.9472\n",
      "Epoch 19/20\n",
      "18667/18667 - 0s - loss: 0.2043 - acc: 0.9471\n",
      "Epoch 20/20\n",
      "18667/18667 - 0s - loss: 0.2039 - acc: 0.9470\n",
      "\n",
      "Loss: 0.2071, Accuracy: 0.9484\n",
      "[[3074    0   22    0    0]\n",
      " [  12   17   37    0    0]\n",
      " [ 119    0 1334    0    0]\n",
      " [   2    0   46    1    0]\n",
      " [   0    0    2    1    0]]\n"
     ]
    }
   ],
   "source": [
    "model.compile(optimizer = 'adam', \n",
    "               loss = tf.keras.losses.SparseCategoricalCrossentropy(from_logits = True),\n",
    "               metrics = [\"accuracy\"])\n",
    "model.fit(x_train,y_train,epochs = 20, verbose=2)\n",
    "test_accuracy = model.evaluate(x_test, y_test, verbose = 3)\n",
    "print(\"\\nLoss: %.4f, Accuracy: %.4f\"%tuple(test_accuracy))\n",
    "y_pred = model.predict_classes(x_test)\n",
    "print(confusion_matrix(y_test,y_pred))"
   ]
  },
  {
   "cell_type": "markdown",
   "metadata": {},
   "source": [
    "# Cross validation (probably don't need)"
   ]
  },
  {
   "cell_type": "code",
   "execution_count": 11,
   "metadata": {},
   "outputs": [
    {
     "name": "stdout",
     "output_type": "stream",
     "text": [
      "(23334, 3) (23334,)\n",
      "acc: 95.72%\n",
      "acc: 95.76%\n",
      "acc: 95.89%\n",
      "acc: 96.06%\n",
      "acc: 96.49%\n",
      "acc: 95.97%\n",
      "acc: 96.19%\n",
      "acc: 96.06%\n",
      "acc: 96.70%\n",
      "acc: 96.27%\n",
      "Total accuracy: 96.11% (+/- 0.30%)\n"
     ]
    }
   ],
   "source": [
    "#10 fold cross-validation \n",
    "# import kfold package\n",
    "from sklearn.model_selection import KFold\n",
    "df = pkl.load(open(\"FeaturesDataFrame.p\", \"rb\"))\n",
    "df = df.query('not (bubblecount == -1 & blobpeakfeature > 1)').copy()\n",
    "df.reset_index(drop=True, inplace=True)\n",
    "y = 1-(np.array(df['bubblecount'])<=0)\n",
    "x = np.array(df[['edgefeature', 'blobfeature', 'blobpeakfeature']])\n",
    "for i in range(3):\n",
    "    x[:,i] = gaussian_normalize(x[:,i])\n",
    "print(x.shape, y.shape)\n",
    "\n",
    "kfold = KFold(n_splits=10, random_state = 10, shuffle = True)\n",
    "cvscores = []\n",
    "for train, test in kfold.split(x, y):\n",
    "    model = tf.keras.Sequential([\n",
    "    tf.keras.layers.Dense(8, activation=tf.nn.relu, input_shape=(3,)),\n",
    "    tf.keras.layers.Dense(2)\n",
    "    ])\n",
    "    model.compile(optimizer = 'adam', \n",
    "               loss = tf.keras.losses.SparseCategoricalCrossentropy(from_logits = True),\n",
    "               metrics = ['accuracy'])\n",
    "    model.fit(x[train],y[train],epochs = 20, verbose=0)\n",
    "    # evaluate the model\n",
    "    scores = model.evaluate(x[test], y[test], verbose = 3)\n",
    "    print(\"%s: %.2f%%\" % (model.metrics_names[1], scores[1]*100))\n",
    "    cvscores.append(scores[1] * 100)\n",
    "print(\"Total accuracy: %.2f%% (+/- %.2f%%)\" % (np.mean(cvscores), np.std(cvscores)))"
   ]
  },
  {
   "cell_type": "code",
   "execution_count": null,
   "metadata": {},
   "outputs": [],
   "source": []
  }
 ],
 "metadata": {
  "kernelspec": {
   "display_name": "Python 3",
   "language": "python",
   "name": "python3"
  },
  "language_info": {
   "codemirror_mode": {
    "name": "ipython",
    "version": 3
   },
   "file_extension": ".py",
   "mimetype": "text/x-python",
   "name": "python",
   "nbconvert_exporter": "python",
   "pygments_lexer": "ipython3",
   "version": "3.7.7"
  }
 },
 "nbformat": 4,
 "nbformat_minor": 4
}
