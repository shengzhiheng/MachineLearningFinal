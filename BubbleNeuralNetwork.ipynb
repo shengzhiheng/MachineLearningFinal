{
 "cells": [
  {
   "cell_type": "code",
   "execution_count": 14,
   "metadata": {},
   "outputs": [],
   "source": [
    "import os\n",
    "import numpy as np\n",
    "import pandas as pd\n",
    "import pickle as pkl\n",
    "import imageio\n",
    "import tensorflow as tf\n",
    "from sklearn.model_selection import train_test_split\n",
    "from sklearn.metrics import confusion_matrix\n",
    "from PIL import Image\n",
    "import PIL\n",
    "from astropy.nddata.utils import Cutout2D\n",
    "from scipy import ndimage\n",
    "import time\n",
    "import matplotlib.pyplot as plt"
   ]
  },
  {
   "cell_type": "code",
   "execution_count": 2,
   "metadata": {},
   "outputs": [],
   "source": [
    "# define functions to normalize image\n",
    "def normalize(arr):\n",
    "    arr = np.array(arr)\n",
    "    arr = arr - np.min(arr)\n",
    "    arr = arr / np.max(arr)\n",
    "    return np.array(arr)\n",
    "\n",
    "def gaussian_normalize(arr):\n",
    "    arr = np.array(arr)\n",
    "    arr = arr - np.mean(arr)\n",
    "    arr = arr / np.std(arr)\n",
    "    return np.array(arr)"
   ]
  },
  {
   "cell_type": "markdown",
   "metadata": {},
   "source": [
    "# Bubble or no bubble"
   ]
  },
  {
   "cell_type": "code",
   "execution_count": 3,
   "metadata": {},
   "outputs": [
    {
     "name": "stdout",
     "output_type": "stream",
     "text": [
      "(23334, 3) (23334,)\n",
      "(18667, 3) (4667, 3) (18667,) (4667,)\n"
     ]
    }
   ],
   "source": [
    "df = pkl.load(open(\"FeaturesDataFrame.p\", \"rb\"))\n",
    "df = df.query('not (bubblecount == -1 & blobpeakfeature > 1)').copy()\n",
    "df.reset_index(drop=True, inplace=True)\n",
    "y = 1-(np.array(df['bubblecount'])<=0)\n",
    "x = np.array(df[['edgefeature', 'blobfeature', 'blobpeakfeature']])\n",
    "for i in range(3):\n",
    "    x[:,i] = gaussian_normalize(x[:,i])\n",
    "print(x.shape, y.shape)\n",
    "x_train, x_test, y_train, y_test = train_test_split(x, y, test_size=0.2)\n",
    "print(x_train.shape, x_test.shape, y_train.shape, y_test.shape)"
   ]
  },
  {
   "cell_type": "code",
   "execution_count": 15,
   "metadata": {},
   "outputs": [],
   "source": [
    "model = tf.keras.Sequential([\n",
    "    tf.keras.layers.Dense(8, activation=tf.nn.relu, input_shape=(3,)),\n",
    "    tf.keras.layers.Dense(2)\n",
    "])"
   ]
  },
  {
   "cell_type": "code",
   "execution_count": 5,
   "metadata": {},
   "outputs": [
    {
     "name": "stdout",
     "output_type": "stream",
     "text": [
      "Epoch 1/20\n",
      "18667/18667 - 0s - loss: 0.3258 - acc: 0.8658\n",
      "Epoch 2/20\n",
      "18667/18667 - 0s - loss: 0.1643 - acc: 0.9523\n",
      "Epoch 3/20\n",
      "18667/18667 - 0s - loss: 0.1560 - acc: 0.9563\n",
      "Epoch 4/20\n",
      "18667/18667 - 0s - loss: 0.1516 - acc: 0.9579\n",
      "Epoch 5/20\n",
      "18667/18667 - 0s - loss: 0.1485 - acc: 0.9586\n",
      "Epoch 6/20\n",
      "18667/18667 - 0s - loss: 0.1460 - acc: 0.9589\n",
      "Epoch 7/20\n",
      "18667/18667 - 0s - loss: 0.1440 - acc: 0.9598\n",
      "Epoch 8/20\n",
      "18667/18667 - 0s - loss: 0.1426 - acc: 0.9598\n",
      "Epoch 9/20\n",
      "18667/18667 - 0s - loss: 0.1414 - acc: 0.9599\n",
      "Epoch 10/20\n",
      "18667/18667 - 0s - loss: 0.1406 - acc: 0.9607\n",
      "Epoch 11/20\n",
      "18667/18667 - 0s - loss: 0.1401 - acc: 0.9605\n",
      "Epoch 12/20\n",
      "18667/18667 - 0s - loss: 0.1396 - acc: 0.9607\n",
      "Epoch 13/20\n",
      "18667/18667 - 0s - loss: 0.1394 - acc: 0.9606\n",
      "Epoch 14/20\n",
      "18667/18667 - 0s - loss: 0.1391 - acc: 0.9609\n",
      "Epoch 15/20\n",
      "18667/18667 - 0s - loss: 0.1388 - acc: 0.9612\n",
      "Epoch 16/20\n",
      "18667/18667 - 0s - loss: 0.1388 - acc: 0.9606\n",
      "Epoch 17/20\n",
      "18667/18667 - 0s - loss: 0.1386 - acc: 0.9611\n",
      "Epoch 18/20\n",
      "18667/18667 - 0s - loss: 0.1386 - acc: 0.9606\n",
      "Epoch 19/20\n",
      "18667/18667 - 0s - loss: 0.1386 - acc: 0.9608\n",
      "Epoch 20/20\n",
      "18667/18667 - 0s - loss: 0.1385 - acc: 0.9608\n",
      "\n",
      "Loss: 0.1354, Accuracy: 0.9638\n",
      "[[3164   53]\n",
      " [ 116 1334]]\n"
     ]
    }
   ],
   "source": [
    "model.compile(optimizer = 'adam', \n",
    "               loss = tf.keras.losses.SparseCategoricalCrossentropy(from_logits = True),\n",
    "               metrics = [\"accuracy\"])\n",
    "model.fit(x_train,y_train,epochs = 20, verbose=2)\n",
    "test_accuracy = model.evaluate(x_test, y_test, verbose = 3)\n",
    "print(\"\\nLoss: %.4f, Accuracy: %.4f\"%tuple(test_accuracy))\n",
    "y_pred = model.predict_classes(x_test)\n",
    "print(confusion_matrix(y_test,y_pred))"
   ]
  },
  {
   "cell_type": "markdown",
   "metadata": {},
   "source": [
    "# Number of bubbles"
   ]
  },
  {
   "cell_type": "code",
   "execution_count": 6,
   "metadata": {},
   "outputs": [
    {
     "name": "stdout",
     "output_type": "stream",
     "text": [
      "(23334, 3) (23334,)\n",
      "(18667, 3) (4667, 3) (18667,) (4667,)\n"
     ]
    }
   ],
   "source": [
    "df = pkl.load(open(\"FeaturesDataFrame.p\", \"rb\"))\n",
    "df = df.query('not (bubblecount == -1 & blobpeakfeature > 1)').copy()\n",
    "df.reset_index(drop=True, inplace=True)\n",
    "y = np.array(df['bubblecount'])+1\n",
    "x = np.array(df[['edgefeature', 'blobfeature', 'blobpeakfeature']])\n",
    "for i in range(3):\n",
    "    x[:,i] = gaussian_normalize(x[:,i])\n",
    "print(x.shape, y.shape)\n",
    "x_train, x_test, y_train, y_test = train_test_split(x, y, test_size=0.2)\n",
    "print(x_train.shape, x_test.shape, y_train.shape, y_test.shape)"
   ]
  },
  {
   "cell_type": "code",
   "execution_count": 7,
   "metadata": {},
   "outputs": [],
   "source": [
    "model = tf.keras.Sequential([\n",
    "    tf.keras.layers.Dense(8, activation=tf.nn.relu, input_shape=(3,)),\n",
    "    tf.keras.layers.Dense(6)\n",
    "])"
   ]
  },
  {
   "cell_type": "code",
   "execution_count": 8,
   "metadata": {},
   "outputs": [
    {
     "name": "stdout",
     "output_type": "stream",
     "text": [
      "Epoch 1/20\n",
      "18667/18667 - 0s - loss: 0.7840 - acc: 0.8183\n",
      "Epoch 2/20\n",
      "18667/18667 - 0s - loss: 0.3612 - acc: 0.9271\n",
      "Epoch 3/20\n",
      "18667/18667 - 0s - loss: 0.2965 - acc: 0.9307\n",
      "Epoch 4/20\n",
      "18667/18667 - 0s - loss: 0.2632 - acc: 0.9360\n",
      "Epoch 5/20\n",
      "18667/18667 - 0s - loss: 0.2489 - acc: 0.9392\n",
      "Epoch 6/20\n",
      "18667/18667 - 0s - loss: 0.2400 - acc: 0.9404\n",
      "Epoch 7/20\n",
      "18667/18667 - 0s - loss: 0.2338 - acc: 0.9417\n",
      "Epoch 8/20\n",
      "18667/18667 - 0s - loss: 0.2289 - acc: 0.9429\n",
      "Epoch 9/20\n",
      "18667/18667 - 0s - loss: 0.2247 - acc: 0.9438\n",
      "Epoch 10/20\n",
      "18667/18667 - 0s - loss: 0.2212 - acc: 0.9443\n",
      "Epoch 11/20\n",
      "18667/18667 - 0s - loss: 0.2189 - acc: 0.9441\n",
      "Epoch 12/20\n",
      "18667/18667 - 0s - loss: 0.2167 - acc: 0.9445\n",
      "Epoch 13/20\n",
      "18667/18667 - 0s - loss: 0.2150 - acc: 0.9456\n",
      "Epoch 14/20\n",
      "18667/18667 - 0s - loss: 0.2136 - acc: 0.9456\n",
      "Epoch 15/20\n",
      "18667/18667 - 0s - loss: 0.2124 - acc: 0.9457\n",
      "Epoch 16/20\n",
      "18667/18667 - 0s - loss: 0.2116 - acc: 0.9456\n",
      "Epoch 17/20\n",
      "18667/18667 - 0s - loss: 0.2110 - acc: 0.9458\n",
      "Epoch 18/20\n",
      "18667/18667 - 0s - loss: 0.2102 - acc: 0.9458\n",
      "Epoch 19/20\n",
      "18667/18667 - 0s - loss: 0.2098 - acc: 0.9458\n",
      "Epoch 20/20\n",
      "18667/18667 - 0s - loss: 0.2094 - acc: 0.9463\n",
      "\n",
      "Loss: 0.1847, Accuracy: 0.9529\n",
      "[[3177    0   20    0    0]\n",
      " [   8   14   47    0    0]\n",
      " [ 102    0 1256    0    0]\n",
      " [   0    0   41    0    0]\n",
      " [   0    0    2    0    0]]\n"
     ]
    }
   ],
   "source": [
    "model.compile(optimizer = 'adam', \n",
    "               loss = tf.keras.losses.SparseCategoricalCrossentropy(from_logits = True),\n",
    "               metrics = [\"accuracy\"])\n",
    "model.fit(x_train,y_train,epochs = 20, verbose=2)\n",
    "test_accuracy = model.evaluate(x_test, y_test, verbose = 3)\n",
    "print(\"\\nLoss: %.4f, Accuracy: %.4f\"%tuple(test_accuracy))\n",
    "y_pred = model.predict_classes(x_test)\n",
    "print(confusion_matrix(y_test,y_pred))"
   ]
  },
  {
   "cell_type": "markdown",
   "metadata": {},
   "source": [
    "# Cross validation (probably don't need)"
   ]
  },
  {
   "cell_type": "code",
   "execution_count": 9,
   "metadata": {},
   "outputs": [
    {
     "name": "stdout",
     "output_type": "stream",
     "text": [
      "(23334, 3) (23334,)\n",
      "acc: 96.83%\n",
      "acc: 96.40%\n",
      "acc: 96.19%\n",
      "acc: 97.30%\n",
      "acc: 95.16%\n",
      "acc: 95.89%\n",
      "acc: 95.71%\n",
      "acc: 95.37%\n",
      "acc: 97.00%\n",
      "acc: 95.80%\n",
      "Total accuracy: 96.16% (+/- 0.67%)\n"
     ]
    }
   ],
   "source": [
    "#10 fold cross-validation \n",
    "# import kfold package\n",
    "from sklearn.model_selection import KFold\n",
    "df = pkl.load(open(\"FeaturesDataFrame.p\", \"rb\"))\n",
    "df = df.query('not (bubblecount == -1 & blobpeakfeature > 1)').copy()\n",
    "df.reset_index(drop=True, inplace=True)\n",
    "y = 1-(np.array(df['bubblecount'])<=0)\n",
    "x = np.array(df[['edgefeature', 'blobfeature', 'blobpeakfeature']])\n",
    "for i in range(3):\n",
    "    x[:,i] = gaussian_normalize(x[:,i])\n",
    "print(x.shape, y.shape)\n",
    "\n",
    "kfold = KFold(n_splits=10, random_state = 10, shuffle = True)\n",
    "cvscores = []\n",
    "for train, test in kfold.split(x, y):\n",
    "    model = tf.keras.Sequential([\n",
    "    tf.keras.layers.Dense(8, activation=tf.nn.relu, input_shape=(3,)),\n",
    "    tf.keras.layers.Dense(2)\n",
    "    ])\n",
    "    model.compile(optimizer = 'adam', \n",
    "               loss = tf.keras.losses.SparseCategoricalCrossentropy(from_logits = True),\n",
    "               metrics = ['accuracy'])\n",
    "    model.fit(x[train],y[train],epochs = 20, verbose=0)\n",
    "    # evaluate the model\n",
    "    scores = model.evaluate(x[test], y[test], verbose = 3)\n",
    "    print(\"%s: %.2f%%\" % (model.metrics_names[1], scores[1]*100))\n",
    "    cvscores.append(scores[1] * 100)\n",
    "print(\"Total accuracy: %.2f%% (+/- %.2f%%)\" % (np.mean(cvscores), np.std(cvscores)))"
   ]
  },
  {
   "cell_type": "markdown",
   "metadata": {},
   "source": [
    "# 5 inputs"
   ]
  },
  {
   "cell_type": "code",
   "execution_count": 10,
   "metadata": {},
   "outputs": [
    {
     "name": "stdout",
     "output_type": "stream",
     "text": [
      "(23334, 5) (23334,)\n",
      "(18667, 5) (4667, 5) (18667,) (4667,)\n"
     ]
    }
   ],
   "source": [
    "df = pkl.load(open(\"FeaturesDataFrame.p\", \"rb\"))\n",
    "df = df.query('not (bubblecount == -1 & blobpeakfeature > 1)').copy()\n",
    "df.reset_index(drop=True, inplace=True)\n",
    "y = 1-(np.array(df['bubblecount'])<=0)\n",
    "x = np.array(df[['edgefeature0', 'edgefeature1','edgefeature2','blobfeature', 'blobpeakfeature']])\n",
    "for i in range(5):\n",
    "    x[:,i] = gaussian_normalize(x[:,i])\n",
    "print(x.shape, y.shape)\n",
    "x_train, x_test, y_train, y_test = train_test_split(x, y, test_size=0.2)\n",
    "print(x_train.shape, x_test.shape, y_train.shape, y_test.shape)"
   ]
  },
  {
   "cell_type": "code",
   "execution_count": 11,
   "metadata": {},
   "outputs": [],
   "source": [
    "model = tf.keras.Sequential([\n",
    "    tf.keras.layers.Dense(8, activation=tf.nn.relu, input_shape=(5,)),\n",
    "    tf.keras.layers.Dense(2)\n",
    "])"
   ]
  },
  {
   "cell_type": "code",
   "execution_count": 12,
   "metadata": {},
   "outputs": [
    {
     "name": "stdout",
     "output_type": "stream",
     "text": [
      "Epoch 1/20\n",
      "18667/18667 - 0s - loss: 0.2617 - acc: 0.9214\n",
      "Epoch 2/20\n",
      "18667/18667 - 0s - loss: 0.1594 - acc: 0.9547\n",
      "Epoch 3/20\n",
      "18667/18667 - 0s - loss: 0.1507 - acc: 0.9581\n",
      "Epoch 4/20\n",
      "18667/18667 - 0s - loss: 0.1466 - acc: 0.9596\n",
      "Epoch 5/20\n",
      "18667/18667 - 0s - loss: 0.1431 - acc: 0.9606\n",
      "Epoch 6/20\n",
      "18667/18667 - 0s - loss: 0.1405 - acc: 0.9611\n",
      "Epoch 7/20\n",
      "18667/18667 - 0s - loss: 0.1384 - acc: 0.9613\n",
      "Epoch 8/20\n",
      "18667/18667 - 0s - loss: 0.1371 - acc: 0.9613\n",
      "Epoch 9/20\n",
      "18667/18667 - 0s - loss: 0.1359 - acc: 0.9618\n",
      "Epoch 10/20\n",
      "18667/18667 - 0s - loss: 0.1353 - acc: 0.9609\n",
      "Epoch 11/20\n",
      "18667/18667 - 0s - loss: 0.1347 - acc: 0.9614\n",
      "Epoch 12/20\n",
      "18667/18667 - 0s - loss: 0.1345 - acc: 0.9614\n",
      "Epoch 13/20\n",
      "18667/18667 - 0s - loss: 0.1341 - acc: 0.9615\n",
      "Epoch 14/20\n",
      "18667/18667 - 0s - loss: 0.1339 - acc: 0.9614\n",
      "Epoch 15/20\n",
      "18667/18667 - 0s - loss: 0.1337 - acc: 0.9618\n",
      "Epoch 16/20\n",
      "18667/18667 - 0s - loss: 0.1335 - acc: 0.9618\n",
      "Epoch 17/20\n",
      "18667/18667 - 0s - loss: 0.1333 - acc: 0.9618\n",
      "Epoch 18/20\n",
      "18667/18667 - 0s - loss: 0.1333 - acc: 0.9620\n",
      "Epoch 19/20\n",
      "18667/18667 - 0s - loss: 0.1332 - acc: 0.9612\n",
      "Epoch 20/20\n",
      "18667/18667 - 0s - loss: 0.1331 - acc: 0.9617\n",
      "\n",
      "Loss: 0.1365, Accuracy: 0.9616\n",
      "[[3117   62]\n",
      " [ 117 1371]]\n"
     ]
    }
   ],
   "source": [
    "model.compile(optimizer = 'adam', \n",
    "               loss = tf.keras.losses.SparseCategoricalCrossentropy(from_logits = True),\n",
    "               metrics = [\"accuracy\"])\n",
    "model.fit(x_train,y_train,epochs = 20, verbose=2)\n",
    "test_accuracy = model.evaluate(x_test, y_test, verbose = 3)\n",
    "print(\"\\nLoss: %.4f, Accuracy: %.4f\"%tuple(test_accuracy))\n",
    "y_pred = model.predict_classes(x_test)\n",
    "print(confusion_matrix(y_test,y_pred))"
   ]
  },
  {
   "cell_type": "code",
   "execution_count": 13,
   "metadata": {},
   "outputs": [
    {
     "name": "stdout",
     "output_type": "stream",
     "text": [
      "acc: 96.83%\n",
      "acc: 96.27%\n",
      "acc: 96.32%\n",
      "acc: 97.17%\n",
      "acc: 95.29%\n",
      "acc: 96.10%\n",
      "acc: 95.76%\n",
      "acc: 95.37%\n",
      "acc: 96.96%\n",
      "acc: 95.59%\n",
      "Total accuracy: 96.16% (+/- 0.63%)\n"
     ]
    }
   ],
   "source": [
    "#10 fold cross-validation \n",
    "# import kfold package\n",
    "kfold = KFold(n_splits=10, random_state = 10, shuffle = True)\n",
    "cvscores = []\n",
    "for train, test in kfold.split(x, y):\n",
    "    model = tf.keras.Sequential([\n",
    "    tf.keras.layers.Dense(8, activation=tf.nn.relu, input_shape=(5,)),\n",
    "    tf.keras.layers.Dense(2)\n",
    "    ])\n",
    "    model.compile(optimizer = 'adam', \n",
    "               loss = tf.keras.losses.SparseCategoricalCrossentropy(from_logits = True),\n",
    "               metrics = ['accuracy'])\n",
    "    model.fit(x[train],y[train],epochs = 20, verbose=0)\n",
    "    # evaluate the model\n",
    "    scores = model.evaluate(x[test], y[test], verbose = 3)\n",
    "    print(\"%s: %.2f%%\" % (model.metrics_names[1], scores[1]*100))\n",
    "    cvscores.append(scores[1] * 100)\n",
    "print(\"Total accuracy: %.2f%% (+/- %.2f%%)\" % (np.mean(cvscores), np.std(cvscores)))"
   ]
  },
  {
   "cell_type": "code",
   "execution_count": null,
   "metadata": {},
   "outputs": [],
   "source": []
  }
 ],
 "metadata": {
  "kernelspec": {
   "display_name": "Python 3",
   "language": "python",
   "name": "python3"
  },
  "language_info": {
   "codemirror_mode": {
    "name": "ipython",
    "version": 3
   },
   "file_extension": ".py",
   "mimetype": "text/x-python",
   "name": "python",
   "nbconvert_exporter": "python",
   "pygments_lexer": "ipython3",
   "version": "3.7.7"
  }
 },
 "nbformat": 4,
 "nbformat_minor": 4
}
