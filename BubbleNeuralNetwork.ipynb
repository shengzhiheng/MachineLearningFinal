{
 "cells": [
  {
   "cell_type": "code",
   "execution_count": 9,
   "metadata": {},
   "outputs": [],
   "source": [
    "import os\n",
    "import numpy as np\n",
    "import pandas as pd\n",
    "import pickle as pkl\n",
    "import imageio\n",
    "import tensorflow as tf\n",
    "from sklearn.model_selection import train_test_split\n",
    "from sklearn.metrics import confusion_matrix\n",
    "from PIL import Image\n",
    "import PIL\n",
    "from astropy.nddata.utils import Cutout2D\n",
    "from scipy import ndimage\n",
    "import time\n",
    "import matplotlib.pyplot as plt"
   ]
  },
  {
   "cell_type": "code",
   "execution_count": 2,
   "metadata": {},
   "outputs": [],
   "source": [
    "datadir = os.path.join('D:\\\\','OneDrive - Northwestern University','Photos', 'bubbleimages')"
   ]
  },
  {
   "cell_type": "code",
   "execution_count": 3,
   "metadata": {},
   "outputs": [],
   "source": [
    "# define functions to normalize image\n",
    "def normalize(arr):\n",
    "    arr = np.array(arr)\n",
    "    arr = arr - np.min(arr)\n",
    "    arr = arr / np.max(arr)\n",
    "    return np.array(arr)\n",
    "\n",
    "def gaussian_normalize(arr):\n",
    "    arr = np.array(arr)\n",
    "    arr = arr - np.mean(arr)\n",
    "    arr = arr / np.std(arr)\n",
    "    return np.array(arr)"
   ]
  },
  {
   "cell_type": "code",
   "execution_count": 4,
   "metadata": {},
   "outputs": [
    {
     "name": "stdout",
     "output_type": "stream",
     "text": [
      "(2783, 3) (2783,)\n"
     ]
    }
   ],
   "source": [
    "df = pkl.load(open(\"FeaturesDataFrame.p\", \"rb\"))\n",
    "y = np.array(df['bubblecount'])\n",
    "x = np.array(df[['edgefeature', 'blobfeature', 'blobpeakfeature']])\n",
    "for i in range(3):\n",
    "    x[:,i] = gaussian_normalize(x[:,i])\n",
    "print(x.shape, y.shape)"
   ]
  },
  {
   "cell_type": "code",
   "execution_count": 5,
   "metadata": {},
   "outputs": [
    {
     "name": "stdout",
     "output_type": "stream",
     "text": [
      "(2226, 3) (557, 3) (2226,) (557,)\n"
     ]
    }
   ],
   "source": [
    "x_train, x_test, y_train, y_test = train_test_split(x, y, test_size=0.2)\n",
    "print(x_train.shape, x_test.shape, y_train.shape, y_test.shape)"
   ]
  },
  {
   "cell_type": "code",
   "execution_count": 10,
   "metadata": {},
   "outputs": [],
   "source": [
    "model = tf.keras.Sequential([\n",
    "    tf.keras.layers.Dense(128, activation=tf.nn.relu, input_shape=(3,)),\n",
    "    tf.keras.layers.Dense(64, activation=tf.nn.relu),\n",
    "    tf.keras.layers.Dense(64, activation=tf.nn.relu),\n",
    "    tf.keras.layers.Dense(32, activation=tf.nn.relu),\n",
    "    tf.keras.layers.Dropout(0.2),\n",
    "    tf.keras.layers.Dense(5)\n",
    "])"
   ]
  },
  {
   "cell_type": "code",
   "execution_count": 7,
   "metadata": {},
   "outputs": [
    {
     "name": "stdout",
     "output_type": "stream",
     "text": [
      "Epoch 1/10\n",
      "2226/2226 [==============================] - 0s 214us/sample - loss: 0.7334 - acc: 0.8261 - categorical_accuracy: 0.7412\n",
      "Epoch 2/10\n",
      "2226/2226 [==============================] - 0s 79us/sample - loss: 0.3436 - acc: 0.8985 - categorical_accuracy: 0.7251\n",
      "Epoch 3/10\n",
      "2226/2226 [==============================] - 0s 94us/sample - loss: 0.2892 - acc: 0.9097 - categorical_accuracy: 0.7161\n",
      "Epoch 4/10\n",
      "2226/2226 [==============================] - 0s 45us/sample - loss: 0.2737 - acc: 0.9173 - categorical_accuracy: 0.7273\n",
      "Epoch 5/10\n",
      "2226/2226 [==============================] - 0s 90us/sample - loss: 0.2742 - acc: 0.9155 - categorical_accuracy: 0.7192\n",
      "Epoch 6/10\n",
      "2226/2226 [==============================] - 0s 85us/sample - loss: 0.2619 - acc: 0.9142 - categorical_accuracy: 0.7192\n",
      "Epoch 7/10\n",
      "2226/2226 [==============================] - 0s 100us/sample - loss: 0.2647 - acc: 0.9151 - categorical_accuracy: 0.7174\n",
      "Epoch 8/10\n",
      "2226/2226 [==============================] - 0s 56us/sample - loss: 0.2608 - acc: 0.9146 - categorical_accuracy: 0.7174\n",
      "Epoch 9/10\n",
      "2226/2226 [==============================] - 0s 82us/sample - loss: 0.2614 - acc: 0.9137 - categorical_accuracy: 0.7197\n",
      "Epoch 10/10\n",
      "2226/2226 [==============================] - 0s 80us/sample - loss: 0.2572 - acc: 0.9146 - categorical_accuracy: 0.7143s - loss: 0.2404 - acc: 0.9159 - categorical_accuracy: 0.\n",
      "\n",
      "Loss: 0.3036, Accuracy: 0.8977, Categorical Accuracy: 0.7271\n"
     ]
    }
   ],
   "source": [
    "model.compile(optimizer = 'adam', \n",
    "               loss = tf.keras.losses.SparseCategoricalCrossentropy(from_logits = True),\n",
    "               metrics = [\"accuracy\", tf.keras.metrics.CategoricalAccuracy()])\n",
    "model.fit(x_train,y_train,epochs = 10)\n",
    "test_accuracy = model.evaluate(x_test, y_test, verbose = 3)\n",
    "print(\"\\nLoss: %.4f, Accuracy: %.4f, Categorical Accuracy: %.4f\"%tuple(test_accuracy))"
   ]
  },
  {
   "cell_type": "code",
   "execution_count": 8,
   "metadata": {},
   "outputs": [
    {
     "name": "stdout",
     "output_type": "stream",
     "text": [
      "[[377  26   0]\n",
      " [ 28 123   0]\n",
      " [  0   3   0]]\n"
     ]
    }
   ],
   "source": [
    "y_pred = model.predict_classes(x_test)\n",
    "print(confusion_matrix(y_test,y_pred))"
   ]
  },
  {
   "cell_type": "code",
   "execution_count": null,
   "metadata": {},
   "outputs": [],
   "source": []
  }
 ],
 "metadata": {
  "kernelspec": {
   "display_name": "Python 3",
   "language": "python",
   "name": "python3"
  },
  "language_info": {
   "codemirror_mode": {
    "name": "ipython",
    "version": 3
   },
   "file_extension": ".py",
   "mimetype": "text/x-python",
   "name": "python",
   "nbconvert_exporter": "python",
   "pygments_lexer": "ipython3",
   "version": "3.7.7"
  }
 },
 "nbformat": 4,
 "nbformat_minor": 4
}
