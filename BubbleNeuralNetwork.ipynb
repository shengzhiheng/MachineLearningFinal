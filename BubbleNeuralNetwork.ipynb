{
 "cells": [
  {
   "cell_type": "code",
   "execution_count": 3,
   "metadata": {},
   "outputs": [],
   "source": [
    "import os\n",
    "import numpy as np\n",
    "import pandas as pd\n",
    "import pickle as pkl\n",
    "import imageio\n",
    "import tensorflow as tf\n",
    "from sklearn.model_selection import train_test_split\n",
    "from sklearn.metrics import confusion_matrix\n",
    "from PIL import Image\n",
    "import PIL\n",
    "from astropy.nddata.utils import Cutout2D\n",
    "from scipy import ndimage\n",
    "import time\n",
    "import matplotlib.pyplot as plt"
   ]
  },
  {
   "cell_type": "code",
   "execution_count": 2,
   "metadata": {},
   "outputs": [],
   "source": [
    "# define functions to normalize image\n",
    "def normalize(arr):\n",
    "    arr = np.array(arr)\n",
    "    arr = arr - np.min(arr)\n",
    "    arr = arr / np.max(arr)\n",
    "    return np.array(arr)\n",
    "\n",
    "def gaussian_normalize(arr):\n",
    "    arr = np.array(arr)\n",
    "    arr = arr - np.mean(arr)\n",
    "    arr = arr / np.std(arr)\n",
    "    return np.array(arr)"
   ]
  },
  {
   "cell_type": "markdown",
   "metadata": {},
   "source": [
    "# Bubble or no bubble"
   ]
  },
  {
   "cell_type": "code",
   "execution_count": 27,
   "metadata": {},
   "outputs": [
    {
     "name": "stdout",
     "output_type": "stream",
     "text": [
      "(23334, 3) (23334,)\n",
      "(18667, 3) (4667, 3) (18667,) (4667,)\n"
     ]
    }
   ],
   "source": [
    "df = pkl.load(open(\"FeaturesDataFrame.p\", \"rb\"))\n",
    "df = df.query('not (bubblecount == -1 & blobpeakfeature > 1)').copy()\n",
    "df.reset_index(drop=True, inplace=True)\n",
    "y = 1-(np.array(df['bubblecount'])<=0)\n",
    "x = np.array(df[['edgefeature', 'blobfeature', 'blobpeakfeature']])\n",
    "for i in range(3):\n",
    "    x[:,i] = gaussian_normalize(x[:,i])\n",
    "print(x.shape, y.shape)\n",
    "x_train, x_test, y_train, y_test = train_test_split(x, y, test_size=0.2)\n",
    "print(x_train.shape, x_test.shape, y_train.shape, y_test.shape)"
   ]
  },
  {
   "cell_type": "code",
   "execution_count": 28,
   "metadata": {},
   "outputs": [],
   "source": [
    "model = tf.keras.Sequential([\n",
    "    tf.keras.layers.Dense(8, activation=tf.nn.relu, input_shape=(3,)),\n",
    "    tf.keras.layers.Dense(2)\n",
    "])"
   ]
  },
  {
   "cell_type": "code",
   "execution_count": 45,
   "metadata": {},
   "outputs": [
    {
     "name": "stdout",
     "output_type": "stream",
     "text": [
      "Epoch 1/20\n",
      "18667/18667 - 0s - loss: 0.2538 - acc: 0.9455\n",
      "Epoch 2/20\n",
      "18667/18667 - 0s - loss: 0.1652 - acc: 0.9540\n",
      "Epoch 3/20\n",
      "18667/18667 - 0s - loss: 0.1587 - acc: 0.9562\n",
      "Epoch 4/20\n",
      "18667/18667 - 0s - loss: 0.1547 - acc: 0.9577\n",
      "Epoch 5/20\n",
      "18667/18667 - 0s - loss: 0.1515 - acc: 0.9585\n",
      "Epoch 6/20\n",
      "18667/18667 - 0s - loss: 0.1489 - acc: 0.9592\n",
      "Epoch 7/20\n",
      "18667/18667 - 0s - loss: 0.1466 - acc: 0.9599\n",
      "Epoch 8/20\n",
      "18667/18667 - 0s - loss: 0.1450 - acc: 0.9602\n",
      "Epoch 9/20\n",
      "18667/18667 - 0s - loss: 0.1436 - acc: 0.9607\n",
      "Epoch 10/20\n",
      "18667/18667 - 0s - loss: 0.1427 - acc: 0.9609\n",
      "Epoch 11/20\n",
      "18667/18667 - 0s - loss: 0.1421 - acc: 0.9607\n",
      "Epoch 12/20\n",
      "18667/18667 - 0s - loss: 0.1415 - acc: 0.9608\n",
      "Epoch 13/20\n",
      "18667/18667 - 0s - loss: 0.1411 - acc: 0.9606\n",
      "Epoch 14/20\n",
      "18667/18667 - 0s - loss: 0.1408 - acc: 0.9613\n",
      "Epoch 15/20\n",
      "18667/18667 - 0s - loss: 0.1406 - acc: 0.9606\n",
      "Epoch 16/20\n",
      "18667/18667 - 0s - loss: 0.1404 - acc: 0.9608\n",
      "Epoch 17/20\n",
      "18667/18667 - 0s - loss: 0.1404 - acc: 0.9611\n",
      "Epoch 18/20\n",
      "18667/18667 - 0s - loss: 0.1405 - acc: 0.9613\n",
      "Epoch 19/20\n",
      "18667/18667 - 0s - loss: 0.1403 - acc: 0.9607\n",
      "Epoch 20/20\n",
      "18667/18667 - 0s - loss: 0.1401 - acc: 0.9618\n",
      "\n",
      "Train set:\tLoss: 0.1409, Accuracy: 0.9616\n",
      "Test set:\tLoss: 0.1336, Accuracy: 0.9629\n",
      "[[3163   65]\n",
      " [ 108 1331]]\n"
     ]
    }
   ],
   "source": [
    "model = tf.keras.Sequential([\n",
    "    tf.keras.layers.Dense(8, activation=tf.nn.relu, input_shape=(3,)),\n",
    "    tf.keras.layers.Dense(2)\n",
    "])\n",
    "weights = {0:1, 1:1}\n",
    "# weights = {0:len(y)/np.sum(y==0), 1:len(y)/np.sum(y==1)}\n",
    "model.compile(optimizer = 'adam', \n",
    "               loss = tf.keras.losses.SparseCategoricalCrossentropy(from_logits = True),\n",
    "               metrics = [\"accuracy\"])\n",
    "model.fit(x_train,y_train, class_weight=weights,epochs = 20, verbose=2)\n",
    "test_accuracy = model.evaluate(x_train, y_train, verbose = 3)\n",
    "print(\"\\nTrain set:\\tLoss: %.4f, Accuracy: %.4f\"%tuple(test_accuracy))\n",
    "test_accuracy = model.evaluate(x_test, y_test, verbose = 3)\n",
    "print(\"Test set:\\tLoss: %.4f, Accuracy: %.4f\"%tuple(test_accuracy))\n",
    "y_pred = model.predict_classes(x_test)\n",
    "print(confusion_matrix(y_test,y_pred))"
   ]
  },
  {
   "cell_type": "markdown",
   "metadata": {},
   "source": [
    "# Number of bubbles"
   ]
  },
  {
   "cell_type": "code",
   "execution_count": 128,
   "metadata": {},
   "outputs": [
    {
     "name": "stdout",
     "output_type": "stream",
     "text": [
      "(23334, 3) (23334,)\n",
      "(18667, 3) (4667, 3) (18667,) (4667,)\n",
      "Number of events with 0 bubbles: 16055\n",
      "Number of events with 1 bubbles: 7003\n",
      "Number of events with 2 bubbles: 260\n",
      "Number of events with 3 bubbles: 15\n",
      "Number of events with 4 bubbles: 1\n"
     ]
    }
   ],
   "source": [
    "df = pkl.load(open(\"FeaturesDataFrame.p\", \"rb\"))\n",
    "# throw away -1 count events with more than 1 peaks\n",
    "df = df.query('not (bubblecount == -1 & blobpeakfeature > 1)').copy()\n",
    "df.reset_index(drop=True, inplace=True)\n",
    "y = np.array(df['bubblecount'])\n",
    "# group 0 and -1\n",
    "y = np.array([i if i>=0 else 0 for i in y])\n",
    "x = np.array(df[['edgefeature', 'blobfeature', 'blobpeakfeature']])\n",
    "for i in range(3):\n",
    "    x[:,i] = gaussian_normalize(x[:,i])\n",
    "print(x.shape, y.shape)\n",
    "x_train, x_test, y_train, y_test = train_test_split(x, y, test_size=0.2)\n",
    "print(x_train.shape, x_test.shape, y_train.shape, y_test.shape)\n",
    "for i in range(5):\n",
    "    print(\"Number of events with %d bubbles: %d\"%(i,np.sum(y==i)))"
   ]
  },
  {
   "cell_type": "code",
   "execution_count": 129,
   "metadata": {},
   "outputs": [],
   "source": [
    "model = tf.keras.Sequential([\n",
    "    tf.keras.layers.Dense(8, activation=tf.nn.relu, input_shape=(3,)),\n",
    "    tf.keras.layers.Dense(5)\n",
    "])"
   ]
  },
  {
   "cell_type": "code",
   "execution_count": 130,
   "metadata": {
    "scrolled": false
   },
   "outputs": [
    {
     "name": "stdout",
     "output_type": "stream",
     "text": [
      "Epoch 1/20\n",
      "18667/18667 - 0s - loss: 0.7457 - acc: 0.8860\n",
      "Epoch 2/20\n",
      "18667/18667 - 0s - loss: 0.2624 - acc: 0.9373\n",
      "Epoch 3/20\n",
      "18667/18667 - 0s - loss: 0.2190 - acc: 0.9428\n",
      "Epoch 4/20\n",
      "18667/18667 - 0s - loss: 0.2046 - acc: 0.9455\n",
      "Epoch 5/20\n",
      "18667/18667 - 0s - loss: 0.1976 - acc: 0.9459\n",
      "Epoch 6/20\n",
      "18667/18667 - 0s - loss: 0.1936 - acc: 0.9465\n",
      "Epoch 7/20\n",
      "18667/18667 - 0s - loss: 0.1912 - acc: 0.9474\n",
      "Epoch 8/20\n",
      "18667/18667 - 0s - loss: 0.1896 - acc: 0.9479\n",
      "Epoch 9/20\n",
      "18667/18667 - 0s - loss: 0.1885 - acc: 0.9481\n",
      "Epoch 10/20\n",
      "18667/18667 - 0s - loss: 0.1874 - acc: 0.9480\n",
      "Epoch 11/20\n",
      "18667/18667 - 0s - loss: 0.1869 - acc: 0.9484\n",
      "Epoch 12/20\n",
      "18667/18667 - 0s - loss: 0.1862 - acc: 0.9484\n",
      "Epoch 13/20\n",
      "18667/18667 - 0s - loss: 0.1855 - acc: 0.9486\n",
      "Epoch 14/20\n",
      "18667/18667 - 0s - loss: 0.1853 - acc: 0.9488\n",
      "Epoch 15/20\n",
      "18667/18667 - 0s - loss: 0.1850 - acc: 0.9490\n",
      "Epoch 16/20\n",
      "18667/18667 - 0s - loss: 0.1843 - acc: 0.9489\n",
      "Epoch 17/20\n",
      "18667/18667 - 0s - loss: 0.1843 - acc: 0.9489\n",
      "Epoch 18/20\n",
      "18667/18667 - 0s - loss: 0.1839 - acc: 0.9489\n",
      "Epoch 19/20\n",
      "18667/18667 - 0s - loss: 0.1837 - acc: 0.9492\n",
      "Epoch 20/20\n",
      "18667/18667 - 0s - loss: 0.1835 - acc: 0.9491\n",
      "\n",
      "Loss: 0.1837, Accuracy: 0.9496\n",
      "[[3124   68    0    0]\n",
      " [ 123 1306    1    0]\n",
      " [   0   41    2    0]\n",
      " [   0    2    0    0]]\n"
     ]
    }
   ],
   "source": [
    "model.compile(optimizer = 'adam', \n",
    "               loss = tf.keras.losses.SparseCategoricalCrossentropy(from_logits = True),\n",
    "               metrics = [\"accuracy\"])\n",
    "model.fit(x_train,y_train,epochs = 20, verbose=2)\n",
    "test_accuracy = model.evaluate(x_test, y_test, verbose = 3)\n",
    "print(\"\\nLoss: %.4f, Accuracy: %.4f\"%tuple(test_accuracy))\n",
    "y_pred = model.predict_classes(x_test)\n",
    "print(confusion_matrix(y_test,y_pred))"
   ]
  },
  {
   "cell_type": "markdown",
   "metadata": {},
   "source": [
    "# 0, 1, or 2+ bubbles"
   ]
  },
  {
   "cell_type": "code",
   "execution_count": 19,
   "metadata": {},
   "outputs": [
    {
     "name": "stdout",
     "output_type": "stream",
     "text": [
      "(23334, 3) (23334,)\n",
      "(18667, 3) (4667, 3) (18667,) (4667,)\n",
      "Number of events with 0 bubbles: 16055\n",
      "Number of events with 1 bubbles: 7003\n",
      "Number of events with 2 bubbles: 276\n"
     ]
    }
   ],
   "source": [
    "df = pkl.load(open(\"FeaturesDataFrame.p\", \"rb\"))\n",
    "# throw away -1 count events with more than 1 peaks\n",
    "df = df.query('not (bubblecount == -1 & blobpeakfeature > 1)').copy()\n",
    "df.reset_index(drop=True, inplace=True)\n",
    "y = np.array(df['bubblecount'])\n",
    "# group 0 and -1\n",
    "y = np.array([i if i>=0 else 0 for i in y])\n",
    "y = np.array([i if i<2 else 2 for i in y])\n",
    "x = np.array(df[['edgefeature', 'blobfeature', 'blobpeakfeature']])\n",
    "for i in range(3):\n",
    "    x[:,i] = gaussian_normalize(x[:,i])\n",
    "print(x.shape, y.shape)\n",
    "x_train, x_test, y_train, y_test = train_test_split(x, y, test_size=0.2)\n",
    "print(x_train.shape, x_test.shape, y_train.shape, y_test.shape)\n",
    "for i in range(3):\n",
    "    print(\"Number of events with %d bubbles: %d\"%(i,np.sum(y==i)))"
   ]
  },
  {
   "cell_type": "code",
   "execution_count": 20,
   "metadata": {},
   "outputs": [],
   "source": [
    "model = tf.keras.Sequential([\n",
    "    tf.keras.layers.Dense(8, activation=tf.nn.relu, input_shape=(3,)),\n",
    "    tf.keras.layers.Dense(3)\n",
    "])\n",
    "weights = {0:len(y)/np.sum(y==0), 1:len(y)/np.sum(y==1), 2:len(y)/np.sum(y==2)}"
   ]
  },
  {
   "cell_type": "code",
   "execution_count": 21,
   "metadata": {},
   "outputs": [
    {
     "name": "stdout",
     "output_type": "stream",
     "text": [
      "Epoch 1/20\n",
      "18667/18667 - 0s - loss: 0.5306 - acc: 0.8664\n",
      "Epoch 2/20\n",
      "18667/18667 - 0s - loss: 0.2517 - acc: 0.9333\n",
      "Epoch 3/20\n",
      "18667/18667 - 0s - loss: 0.2205 - acc: 0.9402\n",
      "Epoch 4/20\n",
      "18667/18667 - 0s - loss: 0.2055 - acc: 0.9442\n",
      "Epoch 5/20\n",
      "18667/18667 - 0s - loss: 0.1958 - acc: 0.9457\n",
      "Epoch 6/20\n",
      "18667/18667 - 0s - loss: 0.1893 - acc: 0.9477\n",
      "Epoch 7/20\n",
      "18667/18667 - 0s - loss: 0.1851 - acc: 0.9485\n",
      "Epoch 8/20\n",
      "18667/18667 - 0s - loss: 0.1824 - acc: 0.9493\n",
      "Epoch 9/20\n",
      "18667/18667 - 0s - loss: 0.1806 - acc: 0.9502\n",
      "Epoch 10/20\n",
      "18667/18667 - 0s - loss: 0.1796 - acc: 0.9503\n",
      "Epoch 11/20\n",
      "18667/18667 - 0s - loss: 0.1789 - acc: 0.9503\n",
      "Epoch 12/20\n",
      "18667/18667 - 0s - loss: 0.1784 - acc: 0.9506\n",
      "Epoch 13/20\n",
      "18667/18667 - 0s - loss: 0.1781 - acc: 0.9509\n",
      "Epoch 14/20\n",
      "18667/18667 - 0s - loss: 0.1776 - acc: 0.9510\n",
      "Epoch 15/20\n",
      "18667/18667 - 0s - loss: 0.1773 - acc: 0.9511\n",
      "Epoch 16/20\n",
      "18667/18667 - 0s - loss: 0.1771 - acc: 0.9509\n",
      "Epoch 17/20\n",
      "18667/18667 - 0s - loss: 0.1769 - acc: 0.9511\n",
      "Epoch 18/20\n",
      "18667/18667 - 0s - loss: 0.1767 - acc: 0.9509\n",
      "Epoch 19/20\n",
      "18667/18667 - 0s - loss: 0.1766 - acc: 0.9511\n",
      "Epoch 20/20\n",
      "18667/18667 - 0s - loss: 0.1766 - acc: 0.9509\n",
      "\n",
      "Loss: 0.1996, Accuracy: 0.9434\n",
      "[[3116   62    1]\n",
      " [ 136 1283    4]\n",
      " [   0   61    4]]\n"
     ]
    }
   ],
   "source": [
    "model.compile(optimizer = 'adam', \n",
    "               loss = tf.keras.losses.SparseCategoricalCrossentropy(from_logits = True),\n",
    "               metrics = [\"accuracy\"])\n",
    "model.fit(x_train,y_train,epochs = 20, verbose=2)\n",
    "test_accuracy = model.evaluate(x_test, y_test, verbose = 3)\n",
    "print(\"\\nLoss: %.4f, Accuracy: %.4f\"%tuple(test_accuracy))\n",
    "y_pred = model.predict_classes(x_test)\n",
    "print(confusion_matrix(y_test,y_pred))"
   ]
  },
  {
   "cell_type": "markdown",
   "metadata": {},
   "source": [
    "# Cross validation (probably don't need)"
   ]
  },
  {
   "cell_type": "code",
   "execution_count": 9,
   "metadata": {},
   "outputs": [
    {
     "name": "stdout",
     "output_type": "stream",
     "text": [
      "(23334, 3) (23334,)\n",
      "acc: 96.83%\n",
      "acc: 96.40%\n",
      "acc: 96.19%\n",
      "acc: 97.30%\n",
      "acc: 95.16%\n",
      "acc: 95.89%\n",
      "acc: 95.71%\n",
      "acc: 95.37%\n",
      "acc: 97.00%\n",
      "acc: 95.80%\n",
      "Total accuracy: 96.16% (+/- 0.67%)\n"
     ]
    }
   ],
   "source": [
    "#10 fold cross-validation \n",
    "# import kfold package\n",
    "from sklearn.model_selection import KFold\n",
    "df = pkl.load(open(\"FeaturesDataFrame.p\", \"rb\"))\n",
    "df = df.query('not (bubblecount == -1 & blobpeakfeature > 1)').copy()\n",
    "df.reset_index(drop=True, inplace=True)\n",
    "y = 1-(np.array(df['bubblecount'])<=0)\n",
    "x = np.array(df[['edgefeature', 'blobfeature', 'blobpeakfeature']])\n",
    "for i in range(3):\n",
    "    x[:,i] = gaussian_normalize(x[:,i])\n",
    "print(x.shape, y.shape)\n",
    "\n",
    "kfold = KFold(n_splits=10, random_state = 10, shuffle = True)\n",
    "cvscores = []\n",
    "for train, test in kfold.split(x, y):\n",
    "    model = tf.keras.Sequential([\n",
    "    tf.keras.layers.Dense(8, activation=tf.nn.relu, input_shape=(3,)),\n",
    "    tf.keras.layers.Dense(2)\n",
    "    ])\n",
    "    model.compile(optimizer = 'adam', \n",
    "               loss = tf.keras.losses.SparseCategoricalCrossentropy(from_logits = True),\n",
    "               metrics = ['accuracy'])\n",
    "    model.fit(x[train],y[train],epochs = 20, verbose=0)\n",
    "    # evaluate the model\n",
    "    scores = model.evaluate(x[test], y[test], verbose = 3)\n",
    "    print(\"%s: %.2f%%\" % (model.metrics_names[1], scores[1]*100))\n",
    "    cvscores.append(scores[1] * 100)\n",
    "print(\"Total accuracy: %.2f%% (+/- %.2f%%)\" % (np.mean(cvscores), np.std(cvscores)))"
   ]
  },
  {
   "cell_type": "markdown",
   "metadata": {},
   "source": [
    "# 5 inputs"
   ]
  },
  {
   "cell_type": "code",
   "execution_count": 10,
   "metadata": {},
   "outputs": [
    {
     "name": "stdout",
     "output_type": "stream",
     "text": [
      "(23334, 5) (23334,)\n",
      "(18667, 5) (4667, 5) (18667,) (4667,)\n"
     ]
    }
   ],
   "source": [
    "df = pkl.load(open(\"FeaturesDataFrame.p\", \"rb\"))\n",
    "df = df.query('not (bubblecount == -1 & blobpeakfeature > 1)').copy()\n",
    "df.reset_index(drop=True, inplace=True)\n",
    "y = 1-(np.array(df['bubblecount'])<=0)\n",
    "x = np.array(df[['edgefeature0', 'edgefeature1','edgefeature2','blobfeature', 'blobpeakfeature']])\n",
    "for i in range(5):\n",
    "    x[:,i] = gaussian_normalize(x[:,i])\n",
    "print(x.shape, y.shape)\n",
    "x_train, x_test, y_train, y_test = train_test_split(x, y, test_size=0.2)\n",
    "print(x_train.shape, x_test.shape, y_train.shape, y_test.shape)"
   ]
  },
  {
   "cell_type": "code",
   "execution_count": 11,
   "metadata": {},
   "outputs": [],
   "source": [
    "model = tf.keras.Sequential([\n",
    "    tf.keras.layers.Dense(8, activation=tf.nn.relu, input_shape=(5,)),\n",
    "    tf.keras.layers.Dense(2)\n",
    "])"
   ]
  },
  {
   "cell_type": "code",
   "execution_count": 12,
   "metadata": {},
   "outputs": [
    {
     "name": "stdout",
     "output_type": "stream",
     "text": [
      "Epoch 1/20\n",
      "18667/18667 - 0s - loss: 0.2617 - acc: 0.9214\n",
      "Epoch 2/20\n",
      "18667/18667 - 0s - loss: 0.1594 - acc: 0.9547\n",
      "Epoch 3/20\n",
      "18667/18667 - 0s - loss: 0.1507 - acc: 0.9581\n",
      "Epoch 4/20\n",
      "18667/18667 - 0s - loss: 0.1466 - acc: 0.9596\n",
      "Epoch 5/20\n",
      "18667/18667 - 0s - loss: 0.1431 - acc: 0.9606\n",
      "Epoch 6/20\n",
      "18667/18667 - 0s - loss: 0.1405 - acc: 0.9611\n",
      "Epoch 7/20\n",
      "18667/18667 - 0s - loss: 0.1384 - acc: 0.9613\n",
      "Epoch 8/20\n",
      "18667/18667 - 0s - loss: 0.1371 - acc: 0.9613\n",
      "Epoch 9/20\n",
      "18667/18667 - 0s - loss: 0.1359 - acc: 0.9618\n",
      "Epoch 10/20\n",
      "18667/18667 - 0s - loss: 0.1353 - acc: 0.9609\n",
      "Epoch 11/20\n",
      "18667/18667 - 0s - loss: 0.1347 - acc: 0.9614\n",
      "Epoch 12/20\n",
      "18667/18667 - 0s - loss: 0.1345 - acc: 0.9614\n",
      "Epoch 13/20\n",
      "18667/18667 - 0s - loss: 0.1341 - acc: 0.9615\n",
      "Epoch 14/20\n",
      "18667/18667 - 0s - loss: 0.1339 - acc: 0.9614\n",
      "Epoch 15/20\n",
      "18667/18667 - 0s - loss: 0.1337 - acc: 0.9618\n",
      "Epoch 16/20\n",
      "18667/18667 - 0s - loss: 0.1335 - acc: 0.9618\n",
      "Epoch 17/20\n",
      "18667/18667 - 0s - loss: 0.1333 - acc: 0.9618\n",
      "Epoch 18/20\n",
      "18667/18667 - 0s - loss: 0.1333 - acc: 0.9620\n",
      "Epoch 19/20\n",
      "18667/18667 - 0s - loss: 0.1332 - acc: 0.9612\n",
      "Epoch 20/20\n",
      "18667/18667 - 0s - loss: 0.1331 - acc: 0.9617\n",
      "\n",
      "Loss: 0.1365, Accuracy: 0.9616\n",
      "[[3117   62]\n",
      " [ 117 1371]]\n"
     ]
    }
   ],
   "source": [
    "model.compile(optimizer = 'adam', \n",
    "               loss = tf.keras.losses.SparseCategoricalCrossentropy(from_logits = True),\n",
    "               metrics = [\"accuracy\"])\n",
    "model.fit(x_train,y_train,epochs = 20, verbose=2)\n",
    "test_accuracy = model.evaluate(x_test, y_test, verbose = 3)\n",
    "print(\"\\nLoss: %.4f, Accuracy: %.4f\"%tuple(test_accuracy))\n",
    "y_pred = model.predict_classes(x_test)\n",
    "print(confusion_matrix(y_test,y_pred))"
   ]
  },
  {
   "cell_type": "code",
   "execution_count": 13,
   "metadata": {},
   "outputs": [
    {
     "name": "stdout",
     "output_type": "stream",
     "text": [
      "acc: 96.83%\n",
      "acc: 96.27%\n",
      "acc: 96.32%\n",
      "acc: 97.17%\n",
      "acc: 95.29%\n",
      "acc: 96.10%\n",
      "acc: 95.76%\n",
      "acc: 95.37%\n",
      "acc: 96.96%\n",
      "acc: 95.59%\n",
      "Total accuracy: 96.16% (+/- 0.63%)\n"
     ]
    }
   ],
   "source": [
    "#10 fold cross-validation \n",
    "# import kfold package\n",
    "kfold = KFold(n_splits=10, random_state = 10, shuffle = True)\n",
    "cvscores = []\n",
    "for train, test in kfold.split(x, y):\n",
    "    model = tf.keras.Sequential([\n",
    "    tf.keras.layers.Dense(8, activation=tf.nn.relu, input_shape=(5,)),\n",
    "    tf.keras.layers.Dense(2)\n",
    "    ])\n",
    "    model.compile(optimizer = 'adam', \n",
    "               loss = tf.keras.losses.SparseCategoricalCrossentropy(from_logits = True),\n",
    "               metrics = ['accuracy'])\n",
    "    model.fit(x[train],y[train],epochs = 20, verbose=0)\n",
    "    # evaluate the model\n",
    "    scores = model.evaluate(x[test], y[test], verbose = 3)\n",
    "    print(\"%s: %.2f%%\" % (model.metrics_names[1], scores[1]*100))\n",
    "    cvscores.append(scores[1] * 100)\n",
    "print(\"Total accuracy: %.2f%% (+/- %.2f%%)\" % (np.mean(cvscores), np.std(cvscores)))"
   ]
  },
  {
   "cell_type": "code",
   "execution_count": null,
   "metadata": {},
   "outputs": [],
   "source": []
  }
 ],
 "metadata": {
  "kernelspec": {
   "display_name": "Python 3",
   "language": "python",
   "name": "python3"
  },
  "language_info": {
   "codemirror_mode": {
    "name": "ipython",
    "version": 3
   },
   "file_extension": ".py",
   "mimetype": "text/x-python",
   "name": "python",
   "nbconvert_exporter": "python",
   "pygments_lexer": "ipython3",
   "version": "3.7.7"
  }
 },
 "nbformat": 4,
 "nbformat_minor": 4
}
