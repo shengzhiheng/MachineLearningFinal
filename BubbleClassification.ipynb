{
 "cells": [
  {
   "cell_type": "code",
   "execution_count": 1,
   "metadata": {},
   "outputs": [],
   "source": [
    "import autograd\n",
    "import autograd.numpy as np\n",
    "import matplotlib.pyplot as plt\n",
    "from PIL import Image \n",
    "import os\n",
    "import IPython.display\n",
    "import time\n",
    "from astropy.nddata.utils import Cutout2D\n",
    "from scipy import ndimage\n",
    "import pickle\n",
    "import time\n",
    "from scipy import signal\n",
    "from joblib import Parallel, delayed # parallelize for loop\n",
    "import multiprocessing # find number of cpu threads available\n",
    "from tqdm.notebook import tqdm # progress bar"
   ]
  },
  {
   "cell_type": "code",
   "execution_count": 3,
   "metadata": {},
   "outputs": [],
   "source": [
    "#extraction stuff\n",
    "#Basic data structure for holding bubble information\n",
    "class BubbleEvent:\n",
    "    def __init__(self, File):\n",
    "        #temp pixel arrays and event level meta data\n",
    "        self.FileName = File\n",
    "        Bot1PixelArray, Bot2PixelArray = BubbleEvent.GetPixelArray(self.FileName) #gets 2d array of pixel intensities\n",
    "        self.Date, self.Run, self.EventID = BubbleEvent.GetRunInfo(self.FileName) #parses image name to get event info\n",
    "        self.BubbleCount = 0\n",
    "        #actual features to use to classify\n",
    "        self.UsefulEdgeFeature0, self.UsefulEdgeFeature1, self.UsefulEdgeFeature2 = (GetEdgeFeature(\n",
    "                                        DownSampleTheArray(2, Bot1PixelArray)) + \n",
    "                                        GetEdgeFeature(DownSampleTheArray(2, Bot2PixelArray))) #edge detect. sum\n",
    "        self.UsefulBlobFeature = np.std(GetBlobs(Bot1PixelArray)) + np.std(GetBlobs(Bot2PixelArray)) #blob convalution deviation\n",
    "        self.CountBlobPeakFeature = GetPeaks(Bot1PixelArray) + GetPeaks(Bot2PixelArray)\n",
    "    def GetPixelArray(FileName):\n",
    "        im = Image.open(FileName)\n",
    "        PixelArray = np.asarray(im)\n",
    "        Cutout = Cutout2D(PixelArray, (530,140), 235) #just cut out the parts of the image with bottles\n",
    "        Bot1PixelArray = Cutout.data\n",
    "        PixelArray =ndimage.rotate(PixelArray, -45)\n",
    "        Cutout2 = Cutout2D(PixelArray, (270,310), 235) #other bottle view\n",
    "        Bot2PixelArray = Cutout2.data\n",
    "        return Bot1PixelArray, Bot2PixelArray\n",
    "    def GetRunInfo(File):\n",
    "        Date = int(File.split(\"/\")[-1].split(\"_\")[0]) #file should be date_run_event\n",
    "        Run = int(File.split(\"/\")[-1].split(\"_\")[1])\n",
    "        Event = int(\"{}{}{}\".format(Date, Run,File.split(\"/\")[-1].split(\"_\")[2])) \n",
    "        return Date, Run, Event\n",
    "#Functions that extract useful features from a pixel array\n",
    "def Convolve(PixelArray, Kernel): #Convolve a given kernel with an array\n",
    "    Convalution = signal.convolve2d(PixelArray, Kernel, mode='valid')\n",
    "    return Convalution\n",
    "#kernel for \n",
    "def LaplaceOfGaussKernel(x, y, sigma):\n",
    "    PointsX, PointsY = np.meshgrid(x,y)\n",
    "    r = PointsX**2 + PointsY**2\n",
    "    LoG = -1/(np.pi*sigma**4)*(1 - r/(2*sigma**2))*np.exp(-r/(2*sigma**2))\n",
    "    return LoG*100\n",
    "\n",
    "def GetBlobs(PixelArray): #run blob detection and then summarize result\n",
    "    I = np.arange(-5,6)\n",
    "    J = np.arange(-5,6)\n",
    "    Kernel=LaplaceOfGaussKernel(I, J, 8.3)\n",
    "    Convalution = Convolve(PixelArray, Kernel)\n",
    "    return Convalution\n",
    "\n",
    "def GetPeaks(Array):\n",
    "    Convalution = GetBlobs(Array)\n",
    "    Peaks = FindPeaks(Convalution, 15)\n",
    "    return Peaks\n",
    "\n",
    "def FindPeaks(Array, boxsize): #finds the number of elements that are bigger than all neighbors in some box\n",
    "    FoundPeak = False\n",
    "    PeakCount=0\n",
    "    for i in range(boxsize, np.shape(Array)[0]-boxsize):\n",
    "        for j in range(boxsize, np.shape(Array)[1]-boxsize):\n",
    "            CurrentElem = Array[i,j]\n",
    "            BoxElements = Array[i-boxsize:i+boxsize+1, j-boxsize:j+boxsize]\n",
    "            if(np.max(BoxElements)<=CurrentElem and CurrentElem>np.mean(Array)+3):\n",
    "                FoundPeak=True\n",
    "            if(FoundPeak):\n",
    "                PeakCount=PeakCount+1\n",
    "                FoundPeak = False #reset the bool\n",
    "    return PeakCount\n",
    "\n",
    "def GetEdgeFeature(PixelArray): #edge detection kernel. Can be shortened by rewriting it to use convolve func\n",
    "    HorizontalKernal = np.array([[1,0,-1],[2,0,-2], [1,0,-1]])\n",
    "    VerticalKernal = HorizontalKernal.T\n",
    "    EdgeArray = np.zeros(3) \n",
    "    Step = 3\n",
    "    i=0\n",
    "    j=0\n",
    "    Significant = 35\n",
    "    XConvalution = Convolve(PixelArray, HorizontalKernal)\n",
    "    YConvalution = Convolve(PixelArray, VerticalKernal)\n",
    "    Cut = (XConvalution>35)*(YConvalution<35)\n",
    "    EdgeArray[0] = Cut.sum()\n",
    "    Cut = (XConvalution<35)*(YConvalution>35)\n",
    "    EdgeArray[1] = Cut.sum()\n",
    "    Cut = (XConvalution>35)*(YConvalution>35)\n",
    "    EdgeArray[2] = Cut.sum()\n",
    "    return EdgeArray\n",
    "\n",
    "def DownSampleArray(BoxSize, Array):\n",
    "    TempArray = Array[:np.shape(Array)[0]-np.shape(Array)[0]%BoxSize, \n",
    "                      :np.shape(Array)[1]-np.shape(Array)[1]%BoxSize] #cut away last rows/columns if needed\n",
    "    Dim = np.shape(TempArray)[0]\n",
    "    NewArray = TempArray.reshape(Dim//BoxSize, BoxSize, Dim//BoxSize, BoxSize).mean(3).mean(1)\n",
    "    return NewArray\n",
    "\n",
    "def GetAllDiffImages():\n",
    "    path = \"../bubbleimages/difffirst/\"\n",
    "    Files = np.array([\"{}{}\".format(path,file) for file in os.listdir(path) if os.path.isfile(os.path.join(path, file))])\n",
    "    return Files\n",
    "\n",
    "def GetBubbleCount(Event, BubbleInfo):\n",
    "    EventID = Event.EventID\n",
    "    Cut = BubbleInfo[:,0]==EventID\n",
    "    if(Cut.sum()!=1): #some events have 2 different bubble count entries\n",
    "        Event.BubbleCount=9999\n",
    "    else:\n",
    "        Event.BubbleCount = int(BubbleInfo[Cut,1])"
   ]
  },
  {
   "cell_type": "code",
   "execution_count": 4,
   "metadata": {},
   "outputs": [],
   "source": [
    "BubbleCountInfo = np.genfromtxt(\"bubnumnew.csv\", delimiter=\",\")\n",
    "DiffImages = GetAllDiffImages()"
   ]
  },
  {
   "cell_type": "code",
   "execution_count": 7,
   "metadata": {},
   "outputs": [
    {
     "data": {
      "text/plain": [
       "64"
      ]
     },
     "execution_count": 7,
     "metadata": {},
     "output_type": "execute_result"
    }
   ],
   "source": [
    "N_cpu = multiprocessing.cpu_count()\n",
    "N_cpu"
   ]
  },
  {
   "cell_type": "code",
   "execution_count": 23,
   "metadata": {},
   "outputs": [],
   "source": [
    "def process_event(i):\n",
    "    Event = BubbleEvent(DiffImages[i])\n",
    "    if(i%int(len(DiffImages)/10)==0):\n",
    "        print(\"On Event {} of {}\".format(i, len(DiffImages)))\n",
    "    GetBubbleCount(Event, BubbleCountInfo)\n",
    "    if(Event.BubbleCount == 9999):\n",
    "        SkippedEventCount = 1\n",
    "    else:\n",
    "        SkippedEventCount = 0\n",
    "    return Event, SkippedEventCount"
   ]
  },
  {
   "cell_type": "code",
   "execution_count": 24,
   "metadata": {},
   "outputs": [
    {
     "data": {
      "application/vnd.jupyter.widget-view+json": {
       "model_id": "d5b23262a2644e85a355bb82905afd79",
       "version_major": 2,
       "version_minor": 0
      },
      "text/plain": [
       "HBox(children=(FloatProgress(value=0.0, description='Event #', max=24697.0, style=ProgressStyle(description_wi…"
      ]
     },
     "metadata": {},
     "output_type": "display_data"
    },
    {
     "name": "stdout",
     "output_type": "stream",
     "text": [
      "\n"
     ]
    }
   ],
   "source": [
    "Events_and_skipped = Parallel(n_jobs=N_cpu)(delayed(process_event)(i)\\\n",
    "                                            for i in tqdm(range(0, len(DiffImages)), desc='Event #'))"
   ]
  },
  {
   "cell_type": "code",
   "execution_count": 43,
   "metadata": {},
   "outputs": [],
   "source": [
    "Events = np.asarray([i[0] for i in Events_and_skipped], dtype=BubbleEvent)\n",
    "Skipped = np.array([i[1] for i in Events_and_skipped])"
   ]
  },
  {
   "cell_type": "code",
   "execution_count": 44,
   "metadata": {},
   "outputs": [
    {
     "data": {
      "text/plain": [
       "140"
      ]
     },
     "execution_count": 44,
     "metadata": {},
     "output_type": "execute_result"
    }
   ],
   "source": [
    "Skipped.sum()"
   ]
  },
  {
   "cell_type": "code",
   "execution_count": 45,
   "metadata": {},
   "outputs": [],
   "source": [
    "Events = Events[Skipped == 0]"
   ]
  },
  {
   "cell_type": "code",
   "execution_count": 47,
   "metadata": {},
   "outputs": [],
   "source": [
    "pickle.dump(Events, open(\"Events.p\", \"wb\"))"
   ]
  }
 ],
 "metadata": {
  "kernelspec": {
   "display_name": "Python 3",
   "language": "python",
   "name": "python3"
  },
  "language_info": {
   "codemirror_mode": {
    "name": "ipython",
    "version": 3
   },
   "file_extension": ".py",
   "mimetype": "text/x-python",
   "name": "python",
   "nbconvert_exporter": "python",
   "pygments_lexer": "ipython3",
   "version": "3.7.6"
  }
 },
 "nbformat": 4,
 "nbformat_minor": 4
}
