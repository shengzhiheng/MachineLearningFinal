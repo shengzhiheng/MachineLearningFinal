{
 "cells": [
  {
   "cell_type": "markdown",
   "metadata": {},
   "source": [
    "# Background\n",
    "- Testing linear multi-class classifiers from course homework\n",
    "- Try out multi-class softmax and multi-class perceptron cost functions\n",
    "- Also play around with weighting based on number of events in each class (avoid overfitting 0 bubbles and poor fit on >0 bubbles)"
   ]
  },
  {
   "cell_type": "code",
   "execution_count": 483,
   "metadata": {},
   "outputs": [],
   "source": [
    "from autograd import grad, hessian\n",
    "from autograd.misc.flatten import flatten_func\n",
    "import autograd.numpy as np\n",
    "import pickle as pkl\n",
    "import matplotlib.pyplot as plt\n",
    "#from mpl_toolkits.mplot3d import Axes3D\n",
    "%matplotlib inline\n",
    "plt.rcParams[\"figure.figsize\"] = (12, 8)"
   ]
  },
  {
   "cell_type": "markdown",
   "metadata": {},
   "source": [
    "# Cost Functions"
   ]
  },
  {
   "cell_type": "code",
   "execution_count": 484,
   "metadata": {},
   "outputs": [],
   "source": [
    "# compute linear combination of input point\n",
    "def model(x,w):\n",
    "    a = w[0] + np.dot(x.T,w[1:])\n",
    "    return a.T\n",
    "\n",
    "# the convex softmax cost function\n",
    "def softmax(w, x, y):\n",
    "    cost = np.sum(np.log(1 + np.exp(-y*model(x,w))))\n",
    "    return cost / float(np.size(y))\n",
    "\n",
    "# the perceptron cost function\n",
    "def perceptron(w, x, y):\n",
    "    cost = np.sum(np.maximum(0, -y*model(x,w)))\n",
    "    return cost / float(np.size(y))\n",
    "\n",
    "# the convex softmax cost function\n",
    "def weighted_softmax(w, x, y, betas):\n",
    "    cost = np.sum(betas*np.log(1 + np.exp(-y*model(x,w))))\n",
    "    return cost / float(np.size(y))"
   ]
  },
  {
   "cell_type": "code",
   "execution_count": 485,
   "metadata": {},
   "outputs": [],
   "source": [
    "def multiclass_perceptron(w, x, y, lam=1e-5):\n",
    "    # pre-compute predictions on all points\n",
    "    all_evals = model(x,w)\n",
    "    \n",
    "    # compute maximum across data points\n",
    "    a = np.max(all_evals, axis=0)\n",
    "    \n",
    "    # compute cost in compact form using numpy broadcasting\n",
    "    b = all_evals[y.astype(int).flatten(), np.arange(np.size(y))]\n",
    "    cost = np.sum(a - b)\n",
    "    \n",
    "    # add regularizer\n",
    "    cost += lam*np.linalg.norm(w[1:,:])**2\n",
    "    \n",
    "    # return average\n",
    "    return cost / float(np.size(y))\n",
    "\n",
    "def multiclass_perceptron_weighted(w, x, y, betas, lam=1e-5):\n",
    "    # pre-compute predictions on all points\n",
    "    all_evals = model(x,w)\n",
    "    \n",
    "    # compute maximum across data points\n",
    "    a = np.max(all_evals, axis=0)\n",
    "    \n",
    "    # compute cost in compact form using numpy broadcasting\n",
    "    b = all_evals[y.astype(int).flatten(), np.arange(np.size(y))]\n",
    "    cost = np.sum(betas*(a - b))\n",
    "    \n",
    "    # add regularizer\n",
    "    cost += lam*np.linalg.norm(w[1:,:])**2\n",
    "    \n",
    "    # return average\n",
    "    return cost #/ float(np.size(y))"
   ]
  },
  {
   "cell_type": "markdown",
   "metadata": {},
   "source": [
    "# Descent Functions"
   ]
  },
  {
   "cell_type": "code",
   "execution_count": 486,
   "metadata": {},
   "outputs": [],
   "source": [
    "def gradient_descent_class(g, alpha, max_its, w, x, y):\n",
    "    \"\"\"\n",
    "    g: function to minimize value of\n",
    "    alpha: step size\n",
    "    max_its: maximum number of iterations\n",
    "    w: starting weights (often randomized)\n",
    "    \"\"\"\n",
    "    \n",
    "    # create gradient calculator function for input function\n",
    "    gradient = grad(g)\n",
    "    \n",
    "    # gradient descent loop\n",
    "    weight_history = [w] # weight history container\n",
    "    cost_history = [g(w)] # cost function history container\n",
    "    #misclass_history = [np.sum(np.sign(model(x, w)) != y)]\n",
    "    misclass_history = [np.sum(np.argmax(model(x, w), axis=0) != y)]\n",
    "    for k in range(max_its):\n",
    "        \n",
    "        # eval gradient\n",
    "        grad_eval = gradient(w)\n",
    "        \n",
    "        # gradient descent step\n",
    "        w = w - alpha*grad_eval\n",
    "        \n",
    "        # record weight and cost\n",
    "        weight_history.append(w)\n",
    "        cost_history.append(g(w))\n",
    "        #misclass_history.append(np.sum(np.sign(model(x, w)) != y))\n",
    "        misclass_history.append(np.sum(np.argmax(model(x, w), axis=0) != y))\n",
    "    \n",
    "    return np.array(weight_history), np.array(cost_history), np.array(misclass_history)"
   ]
  },
  {
   "cell_type": "code",
   "execution_count": 487,
   "metadata": {},
   "outputs": [],
   "source": [
    "def newtons_method_class(g, max_its, w, x, y, **kwargs):\n",
    "    \"\"\"\n",
    "    g: function to minimize value of\n",
    "    max_its: maximum number of iterations\n",
    "    w: starting weights (often randomized)\n",
    "    \"\"\"\n",
    "    \n",
    "    # create gradient / hessian calculator functions for input function\n",
    "    gradient = grad(g)\n",
    "    hess = hessian(g)\n",
    "    \n",
    "    # set numerical stability parameter\n",
    "    epsilon = 1e-7\n",
    "    if 'epsilon' in kwargs:\n",
    "        epsilon = kwargs['epsilon']\n",
    "    \n",
    "    # Newton's method loop\n",
    "    weight_history = [w] # weight history container\n",
    "    cost_history = [g(w)] # cost function history container\n",
    "    #misclass_history = [np.sum(np.sign(model(x, w)) != y)]\n",
    "    misclass_history = [np.sum(np.argmax(model(x, w), axis=0) != y)]\n",
    "    for k in range(max_its):\n",
    "        \n",
    "        # eval gradient and hessian\n",
    "        grad_eval = gradient(w)\n",
    "        hess_eval = hess(w)\n",
    "        \n",
    "        # IS THIS NECESSARY?\n",
    "        # reshape hessian to square matrix\n",
    "        #hess_eval.shape = (int(np.size(hess_eval)**(0.5)),int(np.size(hess_eval)**(0.5)))\n",
    "        \n",
    "        # solve 2nd-order system for weight update\n",
    "        A = hess_eval + epsilon*np.eye(w.size)\n",
    "        b = grad_eval\n",
    "        w = np.linalg.solve(A, np.dot(A,w)-b)\n",
    "        \n",
    "        # record weight and cost\n",
    "        weight_history.append(w)\n",
    "        cost_history.append(g(w))\n",
    "        #misclass_history.append(np.sum(np.sign(model(x, w)) != y))\n",
    "        misclass_history.append(np.sum(np.argmax(model(x, w), axis=0) != y))\n",
    "        \n",
    "    return np.array(weight_history), np.array(cost_history), np.array(misclass_history)"
   ]
  },
  {
   "cell_type": "markdown",
   "metadata": {},
   "source": [
    "# Data Prep\n",
    "- To format like HW datasets, we want \"x\" to be a 2D np.array with shape M x N where M is the number of features and N is the number of data points...and \"y\" is a 2D np.array with shape 1 x N containing the \"N_bubs\" correct classification"
   ]
  },
  {
   "cell_type": "markdown",
   "metadata": {},
   "source": [
    "## Load pickle"
   ]
  },
  {
   "cell_type": "code",
   "execution_count": 533,
   "metadata": {},
   "outputs": [],
   "source": [
    "df_features = pkl.load(open(\"FeaturesDataFrame.p\", \"rb\"))"
   ]
  },
  {
   "cell_type": "code",
   "execution_count": 534,
   "metadata": {},
   "outputs": [
    {
     "data": {
      "text/html": [
       "<div>\n",
       "<style scoped>\n",
       "    .dataframe tbody tr th:only-of-type {\n",
       "        vertical-align: middle;\n",
       "    }\n",
       "\n",
       "    .dataframe tbody tr th {\n",
       "        vertical-align: top;\n",
       "    }\n",
       "\n",
       "    .dataframe thead th {\n",
       "        text-align: right;\n",
       "    }\n",
       "</style>\n",
       "<table border=\"1\" class=\"dataframe\">\n",
       "  <thead>\n",
       "    <tr style=\"text-align: right;\">\n",
       "      <th></th>\n",
       "      <th>date</th>\n",
       "      <th>run</th>\n",
       "      <th>event</th>\n",
       "      <th>bubblecount</th>\n",
       "      <th>edgefeature</th>\n",
       "      <th>blobfeature</th>\n",
       "      <th>blobpeakfeature</th>\n",
       "    </tr>\n",
       "  </thead>\n",
       "  <tbody>\n",
       "    <tr>\n",
       "      <th>0</th>\n",
       "      <td>20170706</td>\n",
       "      <td>5</td>\n",
       "      <td>20170706548</td>\n",
       "      <td>-1</td>\n",
       "      <td>209.0</td>\n",
       "      <td>1.124399</td>\n",
       "      <td>0</td>\n",
       "    </tr>\n",
       "    <tr>\n",
       "      <th>1</th>\n",
       "      <td>20170708</td>\n",
       "      <td>6</td>\n",
       "      <td>20170708662</td>\n",
       "      <td>-1</td>\n",
       "      <td>239.0</td>\n",
       "      <td>1.093626</td>\n",
       "      <td>0</td>\n",
       "    </tr>\n",
       "    <tr>\n",
       "      <th>2</th>\n",
       "      <td>20170625</td>\n",
       "      <td>0</td>\n",
       "      <td>20170625027</td>\n",
       "      <td>-1</td>\n",
       "      <td>244.0</td>\n",
       "      <td>1.107351</td>\n",
       "      <td>0</td>\n",
       "    </tr>\n",
       "    <tr>\n",
       "      <th>3</th>\n",
       "      <td>20170925</td>\n",
       "      <td>0</td>\n",
       "      <td>20170925062</td>\n",
       "      <td>-1</td>\n",
       "      <td>259.0</td>\n",
       "      <td>1.091126</td>\n",
       "      <td>0</td>\n",
       "    </tr>\n",
       "    <tr>\n",
       "      <th>4</th>\n",
       "      <td>20170803</td>\n",
       "      <td>3</td>\n",
       "      <td>20170803337</td>\n",
       "      <td>-1</td>\n",
       "      <td>250.0</td>\n",
       "      <td>1.119024</td>\n",
       "      <td>0</td>\n",
       "    </tr>\n",
       "    <tr>\n",
       "      <th>...</th>\n",
       "      <td>...</td>\n",
       "      <td>...</td>\n",
       "      <td>...</td>\n",
       "      <td>...</td>\n",
       "      <td>...</td>\n",
       "      <td>...</td>\n",
       "      <td>...</td>\n",
       "    </tr>\n",
       "    <tr>\n",
       "      <th>24552</th>\n",
       "      <td>20170926</td>\n",
       "      <td>2</td>\n",
       "      <td>20170926216</td>\n",
       "      <td>1</td>\n",
       "      <td>278.0</td>\n",
       "      <td>1.199092</td>\n",
       "      <td>2</td>\n",
       "    </tr>\n",
       "    <tr>\n",
       "      <th>24553</th>\n",
       "      <td>20171010</td>\n",
       "      <td>3</td>\n",
       "      <td>20171010376</td>\n",
       "      <td>-1</td>\n",
       "      <td>239.0</td>\n",
       "      <td>1.115799</td>\n",
       "      <td>0</td>\n",
       "    </tr>\n",
       "    <tr>\n",
       "      <th>24554</th>\n",
       "      <td>20170715</td>\n",
       "      <td>1</td>\n",
       "      <td>2017071514</td>\n",
       "      <td>-1</td>\n",
       "      <td>250.0</td>\n",
       "      <td>1.138690</td>\n",
       "      <td>0</td>\n",
       "    </tr>\n",
       "    <tr>\n",
       "      <th>24555</th>\n",
       "      <td>20170929</td>\n",
       "      <td>3</td>\n",
       "      <td>20170929313</td>\n",
       "      <td>-1</td>\n",
       "      <td>264.0</td>\n",
       "      <td>1.122245</td>\n",
       "      <td>0</td>\n",
       "    </tr>\n",
       "    <tr>\n",
       "      <th>24556</th>\n",
       "      <td>20170717</td>\n",
       "      <td>2</td>\n",
       "      <td>20170717219</td>\n",
       "      <td>-1</td>\n",
       "      <td>272.0</td>\n",
       "      <td>1.132239</td>\n",
       "      <td>0</td>\n",
       "    </tr>\n",
       "  </tbody>\n",
       "</table>\n",
       "<p>24557 rows × 7 columns</p>\n",
       "</div>"
      ],
      "text/plain": [
       "           date  run        event  bubblecount  edgefeature  blobfeature  \\\n",
       "0      20170706    5  20170706548           -1        209.0     1.124399   \n",
       "1      20170708    6  20170708662           -1        239.0     1.093626   \n",
       "2      20170625    0  20170625027           -1        244.0     1.107351   \n",
       "3      20170925    0  20170925062           -1        259.0     1.091126   \n",
       "4      20170803    3  20170803337           -1        250.0     1.119024   \n",
       "...         ...  ...          ...          ...          ...          ...   \n",
       "24552  20170926    2  20170926216            1        278.0     1.199092   \n",
       "24553  20171010    3  20171010376           -1        239.0     1.115799   \n",
       "24554  20170715    1   2017071514           -1        250.0     1.138690   \n",
       "24555  20170929    3  20170929313           -1        264.0     1.122245   \n",
       "24556  20170717    2  20170717219           -1        272.0     1.132239   \n",
       "\n",
       "       blobpeakfeature  \n",
       "0                    0  \n",
       "1                    0  \n",
       "2                    0  \n",
       "3                    0  \n",
       "4                    0  \n",
       "...                ...  \n",
       "24552                2  \n",
       "24553                0  \n",
       "24554                0  \n",
       "24555                0  \n",
       "24556                0  \n",
       "\n",
       "[24557 rows x 7 columns]"
      ]
     },
     "execution_count": 534,
     "metadata": {},
     "output_type": "execute_result"
    }
   ],
   "source": [
    "df_features"
   ]
  },
  {
   "cell_type": "code",
   "execution_count": 535,
   "metadata": {},
   "outputs": [],
   "source": [
    "# remove -1 with blobpeaks\n",
    "df_features = df_features.query('not (bubblecount == -1 & blobpeakfeature > 1)').copy()\n",
    "df_features.reset_index(drop=True, inplace=True)"
   ]
  },
  {
   "cell_type": "code",
   "execution_count": 536,
   "metadata": {},
   "outputs": [
    {
     "data": {
      "text/html": [
       "<div>\n",
       "<style scoped>\n",
       "    .dataframe tbody tr th:only-of-type {\n",
       "        vertical-align: middle;\n",
       "    }\n",
       "\n",
       "    .dataframe tbody tr th {\n",
       "        vertical-align: top;\n",
       "    }\n",
       "\n",
       "    .dataframe thead th {\n",
       "        text-align: right;\n",
       "    }\n",
       "</style>\n",
       "<table border=\"1\" class=\"dataframe\">\n",
       "  <thead>\n",
       "    <tr style=\"text-align: right;\">\n",
       "      <th></th>\n",
       "      <th>date</th>\n",
       "      <th>run</th>\n",
       "      <th>event</th>\n",
       "      <th>bubblecount</th>\n",
       "      <th>edgefeature</th>\n",
       "      <th>blobfeature</th>\n",
       "      <th>blobpeakfeature</th>\n",
       "    </tr>\n",
       "  </thead>\n",
       "  <tbody>\n",
       "    <tr>\n",
       "      <th>0</th>\n",
       "      <td>20170706</td>\n",
       "      <td>5</td>\n",
       "      <td>20170706548</td>\n",
       "      <td>-1</td>\n",
       "      <td>209.0</td>\n",
       "      <td>1.124399</td>\n",
       "      <td>0</td>\n",
       "    </tr>\n",
       "    <tr>\n",
       "      <th>1</th>\n",
       "      <td>20170708</td>\n",
       "      <td>6</td>\n",
       "      <td>20170708662</td>\n",
       "      <td>-1</td>\n",
       "      <td>239.0</td>\n",
       "      <td>1.093626</td>\n",
       "      <td>0</td>\n",
       "    </tr>\n",
       "    <tr>\n",
       "      <th>2</th>\n",
       "      <td>20170625</td>\n",
       "      <td>0</td>\n",
       "      <td>20170625027</td>\n",
       "      <td>-1</td>\n",
       "      <td>244.0</td>\n",
       "      <td>1.107351</td>\n",
       "      <td>0</td>\n",
       "    </tr>\n",
       "    <tr>\n",
       "      <th>3</th>\n",
       "      <td>20170925</td>\n",
       "      <td>0</td>\n",
       "      <td>20170925062</td>\n",
       "      <td>-1</td>\n",
       "      <td>259.0</td>\n",
       "      <td>1.091126</td>\n",
       "      <td>0</td>\n",
       "    </tr>\n",
       "    <tr>\n",
       "      <th>4</th>\n",
       "      <td>20170803</td>\n",
       "      <td>3</td>\n",
       "      <td>20170803337</td>\n",
       "      <td>-1</td>\n",
       "      <td>250.0</td>\n",
       "      <td>1.119024</td>\n",
       "      <td>0</td>\n",
       "    </tr>\n",
       "    <tr>\n",
       "      <th>...</th>\n",
       "      <td>...</td>\n",
       "      <td>...</td>\n",
       "      <td>...</td>\n",
       "      <td>...</td>\n",
       "      <td>...</td>\n",
       "      <td>...</td>\n",
       "      <td>...</td>\n",
       "    </tr>\n",
       "    <tr>\n",
       "      <th>23329</th>\n",
       "      <td>20170926</td>\n",
       "      <td>2</td>\n",
       "      <td>20170926216</td>\n",
       "      <td>1</td>\n",
       "      <td>278.0</td>\n",
       "      <td>1.199092</td>\n",
       "      <td>2</td>\n",
       "    </tr>\n",
       "    <tr>\n",
       "      <th>23330</th>\n",
       "      <td>20171010</td>\n",
       "      <td>3</td>\n",
       "      <td>20171010376</td>\n",
       "      <td>-1</td>\n",
       "      <td>239.0</td>\n",
       "      <td>1.115799</td>\n",
       "      <td>0</td>\n",
       "    </tr>\n",
       "    <tr>\n",
       "      <th>23331</th>\n",
       "      <td>20170715</td>\n",
       "      <td>1</td>\n",
       "      <td>2017071514</td>\n",
       "      <td>-1</td>\n",
       "      <td>250.0</td>\n",
       "      <td>1.138690</td>\n",
       "      <td>0</td>\n",
       "    </tr>\n",
       "    <tr>\n",
       "      <th>23332</th>\n",
       "      <td>20170929</td>\n",
       "      <td>3</td>\n",
       "      <td>20170929313</td>\n",
       "      <td>-1</td>\n",
       "      <td>264.0</td>\n",
       "      <td>1.122245</td>\n",
       "      <td>0</td>\n",
       "    </tr>\n",
       "    <tr>\n",
       "      <th>23333</th>\n",
       "      <td>20170717</td>\n",
       "      <td>2</td>\n",
       "      <td>20170717219</td>\n",
       "      <td>-1</td>\n",
       "      <td>272.0</td>\n",
       "      <td>1.132239</td>\n",
       "      <td>0</td>\n",
       "    </tr>\n",
       "  </tbody>\n",
       "</table>\n",
       "<p>23334 rows × 7 columns</p>\n",
       "</div>"
      ],
      "text/plain": [
       "           date  run        event  bubblecount  edgefeature  blobfeature  \\\n",
       "0      20170706    5  20170706548           -1        209.0     1.124399   \n",
       "1      20170708    6  20170708662           -1        239.0     1.093626   \n",
       "2      20170625    0  20170625027           -1        244.0     1.107351   \n",
       "3      20170925    0  20170925062           -1        259.0     1.091126   \n",
       "4      20170803    3  20170803337           -1        250.0     1.119024   \n",
       "...         ...  ...          ...          ...          ...          ...   \n",
       "23329  20170926    2  20170926216            1        278.0     1.199092   \n",
       "23330  20171010    3  20171010376           -1        239.0     1.115799   \n",
       "23331  20170715    1   2017071514           -1        250.0     1.138690   \n",
       "23332  20170929    3  20170929313           -1        264.0     1.122245   \n",
       "23333  20170717    2  20170717219           -1        272.0     1.132239   \n",
       "\n",
       "       blobpeakfeature  \n",
       "0                    0  \n",
       "1                    0  \n",
       "2                    0  \n",
       "3                    0  \n",
       "4                    0  \n",
       "...                ...  \n",
       "23329                2  \n",
       "23330                0  \n",
       "23331                0  \n",
       "23332                0  \n",
       "23333                0  \n",
       "\n",
       "[23334 rows x 7 columns]"
      ]
     },
     "execution_count": 536,
     "metadata": {},
     "output_type": "execute_result"
    }
   ],
   "source": [
    "df_features"
   ]
  },
  {
   "cell_type": "code",
   "execution_count": 537,
   "metadata": {},
   "outputs": [],
   "source": [
    "df_features.loc[df_features.bubblecount == -1, 'bubblecount'] = 0"
   ]
  },
  {
   "cell_type": "code",
   "execution_count": 538,
   "metadata": {},
   "outputs": [
    {
     "data": {
      "text/html": [
       "<div>\n",
       "<style scoped>\n",
       "    .dataframe tbody tr th:only-of-type {\n",
       "        vertical-align: middle;\n",
       "    }\n",
       "\n",
       "    .dataframe tbody tr th {\n",
       "        vertical-align: top;\n",
       "    }\n",
       "\n",
       "    .dataframe thead th {\n",
       "        text-align: right;\n",
       "    }\n",
       "</style>\n",
       "<table border=\"1\" class=\"dataframe\">\n",
       "  <thead>\n",
       "    <tr style=\"text-align: right;\">\n",
       "      <th></th>\n",
       "      <th>date</th>\n",
       "      <th>run</th>\n",
       "      <th>event</th>\n",
       "      <th>bubblecount</th>\n",
       "      <th>edgefeature</th>\n",
       "      <th>blobfeature</th>\n",
       "      <th>blobpeakfeature</th>\n",
       "    </tr>\n",
       "  </thead>\n",
       "  <tbody>\n",
       "    <tr>\n",
       "      <th>0</th>\n",
       "      <td>20170706</td>\n",
       "      <td>5</td>\n",
       "      <td>20170706548</td>\n",
       "      <td>0</td>\n",
       "      <td>209.0</td>\n",
       "      <td>1.124399</td>\n",
       "      <td>0</td>\n",
       "    </tr>\n",
       "    <tr>\n",
       "      <th>1</th>\n",
       "      <td>20170708</td>\n",
       "      <td>6</td>\n",
       "      <td>20170708662</td>\n",
       "      <td>0</td>\n",
       "      <td>239.0</td>\n",
       "      <td>1.093626</td>\n",
       "      <td>0</td>\n",
       "    </tr>\n",
       "    <tr>\n",
       "      <th>2</th>\n",
       "      <td>20170625</td>\n",
       "      <td>0</td>\n",
       "      <td>20170625027</td>\n",
       "      <td>0</td>\n",
       "      <td>244.0</td>\n",
       "      <td>1.107351</td>\n",
       "      <td>0</td>\n",
       "    </tr>\n",
       "    <tr>\n",
       "      <th>3</th>\n",
       "      <td>20170925</td>\n",
       "      <td>0</td>\n",
       "      <td>20170925062</td>\n",
       "      <td>0</td>\n",
       "      <td>259.0</td>\n",
       "      <td>1.091126</td>\n",
       "      <td>0</td>\n",
       "    </tr>\n",
       "    <tr>\n",
       "      <th>4</th>\n",
       "      <td>20170803</td>\n",
       "      <td>3</td>\n",
       "      <td>20170803337</td>\n",
       "      <td>0</td>\n",
       "      <td>250.0</td>\n",
       "      <td>1.119024</td>\n",
       "      <td>0</td>\n",
       "    </tr>\n",
       "    <tr>\n",
       "      <th>...</th>\n",
       "      <td>...</td>\n",
       "      <td>...</td>\n",
       "      <td>...</td>\n",
       "      <td>...</td>\n",
       "      <td>...</td>\n",
       "      <td>...</td>\n",
       "      <td>...</td>\n",
       "    </tr>\n",
       "    <tr>\n",
       "      <th>23329</th>\n",
       "      <td>20170926</td>\n",
       "      <td>2</td>\n",
       "      <td>20170926216</td>\n",
       "      <td>1</td>\n",
       "      <td>278.0</td>\n",
       "      <td>1.199092</td>\n",
       "      <td>2</td>\n",
       "    </tr>\n",
       "    <tr>\n",
       "      <th>23330</th>\n",
       "      <td>20171010</td>\n",
       "      <td>3</td>\n",
       "      <td>20171010376</td>\n",
       "      <td>0</td>\n",
       "      <td>239.0</td>\n",
       "      <td>1.115799</td>\n",
       "      <td>0</td>\n",
       "    </tr>\n",
       "    <tr>\n",
       "      <th>23331</th>\n",
       "      <td>20170715</td>\n",
       "      <td>1</td>\n",
       "      <td>2017071514</td>\n",
       "      <td>0</td>\n",
       "      <td>250.0</td>\n",
       "      <td>1.138690</td>\n",
       "      <td>0</td>\n",
       "    </tr>\n",
       "    <tr>\n",
       "      <th>23332</th>\n",
       "      <td>20170929</td>\n",
       "      <td>3</td>\n",
       "      <td>20170929313</td>\n",
       "      <td>0</td>\n",
       "      <td>264.0</td>\n",
       "      <td>1.122245</td>\n",
       "      <td>0</td>\n",
       "    </tr>\n",
       "    <tr>\n",
       "      <th>23333</th>\n",
       "      <td>20170717</td>\n",
       "      <td>2</td>\n",
       "      <td>20170717219</td>\n",
       "      <td>0</td>\n",
       "      <td>272.0</td>\n",
       "      <td>1.132239</td>\n",
       "      <td>0</td>\n",
       "    </tr>\n",
       "  </tbody>\n",
       "</table>\n",
       "<p>23334 rows × 7 columns</p>\n",
       "</div>"
      ],
      "text/plain": [
       "           date  run        event  bubblecount  edgefeature  blobfeature  \\\n",
       "0      20170706    5  20170706548            0        209.0     1.124399   \n",
       "1      20170708    6  20170708662            0        239.0     1.093626   \n",
       "2      20170625    0  20170625027            0        244.0     1.107351   \n",
       "3      20170925    0  20170925062            0        259.0     1.091126   \n",
       "4      20170803    3  20170803337            0        250.0     1.119024   \n",
       "...         ...  ...          ...          ...          ...          ...   \n",
       "23329  20170926    2  20170926216            1        278.0     1.199092   \n",
       "23330  20171010    3  20171010376            0        239.0     1.115799   \n",
       "23331  20170715    1   2017071514            0        250.0     1.138690   \n",
       "23332  20170929    3  20170929313            0        264.0     1.122245   \n",
       "23333  20170717    2  20170717219            0        272.0     1.132239   \n",
       "\n",
       "       blobpeakfeature  \n",
       "0                    0  \n",
       "1                    0  \n",
       "2                    0  \n",
       "3                    0  \n",
       "4                    0  \n",
       "...                ...  \n",
       "23329                2  \n",
       "23330                0  \n",
       "23331                0  \n",
       "23332                0  \n",
       "23333                0  \n",
       "\n",
       "[23334 rows x 7 columns]"
      ]
     },
     "execution_count": 538,
     "metadata": {},
     "output_type": "execute_result"
    }
   ],
   "source": [
    "df_features"
   ]
  },
  {
   "cell_type": "code",
   "execution_count": 539,
   "metadata": {},
   "outputs": [],
   "source": [
    "x = df_features[['edgefeature', 'blobfeature', 'blobpeakfeature']].values.T"
   ]
  },
  {
   "cell_type": "code",
   "execution_count": 540,
   "metadata": {},
   "outputs": [
    {
     "data": {
      "text/plain": [
       "(3, 23334)"
      ]
     },
     "execution_count": 540,
     "metadata": {},
     "output_type": "execute_result"
    }
   ],
   "source": [
    "x.shape"
   ]
  },
  {
   "cell_type": "code",
   "execution_count": 541,
   "metadata": {},
   "outputs": [],
   "source": [
    "y = df_features['bubblecount'].values[np.newaxis, :]"
   ]
  },
  {
   "cell_type": "code",
   "execution_count": 542,
   "metadata": {},
   "outputs": [
    {
     "data": {
      "text/plain": [
       "(1, 23334)"
      ]
     },
     "execution_count": 542,
     "metadata": {},
     "output_type": "execute_result"
    }
   ],
   "source": [
    "y.shape"
   ]
  },
  {
   "cell_type": "markdown",
   "metadata": {},
   "source": [
    "- Now our feature data is in the correct form."
   ]
  },
  {
   "cell_type": "markdown",
   "metadata": {},
   "source": [
    "## Normalize Data (???)\n",
    "- If feature values are wildly different, we should normalize the data before classifying"
   ]
  },
  {
   "cell_type": "code",
   "execution_count": 543,
   "metadata": {},
   "outputs": [],
   "source": [
    "mus = np.mean(x, axis=1).reshape(1,-1)\n",
    "stds = ((np.mean((x - mus.T)**2, axis=1))**(1/2)).reshape(1, -1)\n",
    "x_normed = (x - mus.T)/ stds.T"
   ]
  },
  {
   "cell_type": "code",
   "execution_count": 544,
   "metadata": {},
   "outputs": [
    {
     "data": {
      "text/plain": [
       "array([[209.        , 239.        , 244.        , ..., 250.        ,\n",
       "        264.        , 272.        ],\n",
       "       [  1.1243992 ,   1.09362589,   1.1073513 , ...,   1.1386899 ,\n",
       "          1.12224511,   1.13223875],\n",
       "       [  0.        ,   0.        ,   0.        , ...,   0.        ,\n",
       "          0.        ,   0.        ]])"
      ]
     },
     "execution_count": 544,
     "metadata": {},
     "output_type": "execute_result"
    }
   ],
   "source": [
    "x"
   ]
  },
  {
   "cell_type": "code",
   "execution_count": 545,
   "metadata": {},
   "outputs": [
    {
     "data": {
      "text/plain": [
       "array([[-1.58332163, -0.81790246, -0.6903326 , ..., -0.53724877,\n",
       "        -0.18005315,  0.02405862],\n",
       "       [-0.42586251, -0.54017483, -0.48918964, ..., -0.37277748,\n",
       "        -0.43386425, -0.39674127],\n",
       "       [-0.67698801, -0.67698801, -0.67698801, ..., -0.67698801,\n",
       "        -0.67698801, -0.67698801]])"
      ]
     },
     "execution_count": 545,
     "metadata": {},
     "output_type": "execute_result"
    }
   ],
   "source": [
    "x_normed"
   ]
  },
  {
   "cell_type": "markdown",
   "metadata": {},
   "source": [
    "# Multiclass Perceptron"
   ]
  },
  {
   "cell_type": "code",
   "execution_count": 554,
   "metadata": {},
   "outputs": [
    {
     "data": {
      "text/plain": [
       "7003"
      ]
     },
     "execution_count": 554,
     "metadata": {},
     "output_type": "execute_result"
    }
   ],
   "source": [
    "np.sum(y == 1)"
   ]
  },
  {
   "cell_type": "code",
   "execution_count": 555,
   "metadata": {},
   "outputs": [],
   "source": [
    "# weights\n",
    "betas = np.ones(x.shape[1])\n",
    "n0 = np.sum(y == 0)\n",
    "n1 = np.sum(y == 1)\n",
    "n2 = np.sum(y == 2)\n",
    "n3 = np.sum(y == 3)\n",
    "n4 = np.sum(y == 4)\n",
    "n_dict = {0:n0, 1:n1, 2:n2, 3:n3, 4:n4}\n",
    "betas = np.array([1./n_dict[y_] for y_ in y.flatten()])\n",
    "#betas = np.array([1./(2*n_dict[y_]) for y_ in y.flatten()])"
   ]
  },
  {
   "cell_type": "code",
   "execution_count": 556,
   "metadata": {},
   "outputs": [],
   "source": [
    "def g_mc_percept(w):\n",
    "    #return multiclass_perceptron(w, x_normed, y)\n",
    "    return multiclass_perceptron_weighted(w, x_normed, y, betas, lam=1e-4)"
   ]
  },
  {
   "cell_type": "code",
   "execution_count": 557,
   "metadata": {},
   "outputs": [
    {
     "data": {
      "text/plain": [
       "array([6.22858922e-05, 6.22858922e-05, 6.22858922e-05, ...,\n",
       "       6.22858922e-05, 6.22858922e-05, 6.22858922e-05])"
      ]
     },
     "execution_count": 557,
     "metadata": {},
     "output_type": "execute_result"
    }
   ],
   "source": [
    "betas"
   ]
  },
  {
   "cell_type": "code",
   "execution_count": 558,
   "metadata": {},
   "outputs": [],
   "source": [
    "w0 = np.random.rand(x.shape[0]+1, x.shape[1])"
   ]
  },
  {
   "cell_type": "code",
   "execution_count": 559,
   "metadata": {},
   "outputs": [
    {
     "data": {
      "text/plain": [
       "(4, 23334)"
      ]
     },
     "execution_count": 559,
     "metadata": {},
     "output_type": "execute_result"
    }
   ],
   "source": [
    "w0.shape"
   ]
  },
  {
   "cell_type": "code",
   "execution_count": 560,
   "metadata": {},
   "outputs": [
    {
     "data": {
      "text/plain": [
       "17.241531796097874"
      ]
     },
     "execution_count": 560,
     "metadata": {},
     "output_type": "execute_result"
    }
   ],
   "source": [
    "g_mc_percept(w0)"
   ]
  },
  {
   "cell_type": "code",
   "execution_count": 561,
   "metadata": {},
   "outputs": [],
   "source": [
    "### HESSIAN STUFF ### "
   ]
  },
  {
   "cell_type": "code",
   "execution_count": 476,
   "metadata": {},
   "outputs": [],
   "source": [
    "# flatten an input function g\n",
    "g_flat, unflatten_func, w = flatten_func(g_mc_percept, w0)"
   ]
  },
  {
   "cell_type": "code",
   "execution_count": 478,
   "metadata": {},
   "outputs": [
    {
     "data": {
      "text/plain": [
       "array([5.79894589])"
      ]
     },
     "execution_count": 478,
     "metadata": {},
     "output_type": "execute_result"
    }
   ],
   "source": [
    "g_flat(w0)"
   ]
  },
  {
   "cell_type": "code",
   "execution_count": 480,
   "metadata": {},
   "outputs": [],
   "source": [
    "hess = hessian(g_flat)"
   ]
  },
  {
   "cell_type": "code",
   "execution_count": 481,
   "metadata": {},
   "outputs": [],
   "source": [
    "hess_eval = hess(w0)"
   ]
  },
  {
   "cell_type": "code",
   "execution_count": 482,
   "metadata": {},
   "outputs": [
    {
     "data": {
      "text/plain": [
       "(1, 4, 2783, 4, 2783)"
      ]
     },
     "execution_count": 482,
     "metadata": {},
     "output_type": "execute_result"
    }
   ],
   "source": [
    "hess_eval.shape"
   ]
  },
  {
   "cell_type": "code",
   "execution_count": null,
   "metadata": {},
   "outputs": [],
   "source": []
  },
  {
   "cell_type": "code",
   "execution_count": 465,
   "metadata": {},
   "outputs": [],
   "source": [
    "hess = hessian(g_mc_percept)"
   ]
  },
  {
   "cell_type": "code",
   "execution_count": 467,
   "metadata": {},
   "outputs": [],
   "source": [
    "hess_eval = hess(w0)"
   ]
  },
  {
   "cell_type": "code",
   "execution_count": 469,
   "metadata": {},
   "outputs": [
    {
     "data": {
      "text/plain": [
       "(4, 2783, 4, 2783)"
      ]
     },
     "execution_count": 469,
     "metadata": {},
     "output_type": "execute_result"
    }
   ],
   "source": [
    "hess_eval.shape"
   ]
  },
  {
   "cell_type": "code",
   "execution_count": 471,
   "metadata": {},
   "outputs": [
    {
     "data": {
      "text/plain": [
       "numpy.float64"
      ]
     },
     "execution_count": 471,
     "metadata": {},
     "output_type": "execute_result"
    }
   ],
   "source": [
    "type(g_mc_percept(w0))"
   ]
  },
  {
   "cell_type": "code",
   "execution_count": 468,
   "metadata": {},
   "outputs": [
    {
     "data": {
      "text/plain": [
       "array([[[[ 0.00000000e+00,  0.00000000e+00,  0.00000000e+00, ...,\n",
       "           0.00000000e+00,  0.00000000e+00,  0.00000000e+00],\n",
       "         [ 0.00000000e+00,  0.00000000e+00,  0.00000000e+00, ...,\n",
       "           0.00000000e+00,  0.00000000e+00,  0.00000000e+00],\n",
       "         [ 0.00000000e+00,  0.00000000e+00,  0.00000000e+00, ...,\n",
       "           0.00000000e+00,  0.00000000e+00,  0.00000000e+00],\n",
       "         [ 0.00000000e+00,  0.00000000e+00,  0.00000000e+00, ...,\n",
       "           0.00000000e+00,  0.00000000e+00,  0.00000000e+00]],\n",
       "\n",
       "        [[ 0.00000000e+00,  0.00000000e+00,  0.00000000e+00, ...,\n",
       "           0.00000000e+00,  0.00000000e+00,  0.00000000e+00],\n",
       "         [ 0.00000000e+00,  0.00000000e+00,  0.00000000e+00, ...,\n",
       "           0.00000000e+00,  0.00000000e+00,  0.00000000e+00],\n",
       "         [ 0.00000000e+00,  0.00000000e+00,  0.00000000e+00, ...,\n",
       "           0.00000000e+00,  0.00000000e+00,  0.00000000e+00],\n",
       "         [ 0.00000000e+00,  0.00000000e+00,  0.00000000e+00, ...,\n",
       "           0.00000000e+00,  0.00000000e+00,  0.00000000e+00]],\n",
       "\n",
       "        [[ 0.00000000e+00,  0.00000000e+00,  0.00000000e+00, ...,\n",
       "           0.00000000e+00,  0.00000000e+00,  0.00000000e+00],\n",
       "         [ 0.00000000e+00,  0.00000000e+00,  0.00000000e+00, ...,\n",
       "           0.00000000e+00,  0.00000000e+00,  0.00000000e+00],\n",
       "         [ 0.00000000e+00,  0.00000000e+00,  0.00000000e+00, ...,\n",
       "           0.00000000e+00,  0.00000000e+00,  0.00000000e+00],\n",
       "         [ 0.00000000e+00,  0.00000000e+00,  0.00000000e+00, ...,\n",
       "           0.00000000e+00,  0.00000000e+00,  0.00000000e+00]],\n",
       "\n",
       "        ...,\n",
       "\n",
       "        [[ 0.00000000e+00,  0.00000000e+00,  0.00000000e+00, ...,\n",
       "           0.00000000e+00,  0.00000000e+00,  0.00000000e+00],\n",
       "         [ 0.00000000e+00,  0.00000000e+00,  0.00000000e+00, ...,\n",
       "           0.00000000e+00,  0.00000000e+00,  0.00000000e+00],\n",
       "         [ 0.00000000e+00,  0.00000000e+00,  0.00000000e+00, ...,\n",
       "           0.00000000e+00,  0.00000000e+00,  0.00000000e+00],\n",
       "         [ 0.00000000e+00,  0.00000000e+00,  0.00000000e+00, ...,\n",
       "           0.00000000e+00,  0.00000000e+00,  0.00000000e+00]],\n",
       "\n",
       "        [[ 0.00000000e+00,  0.00000000e+00,  0.00000000e+00, ...,\n",
       "           0.00000000e+00,  0.00000000e+00,  0.00000000e+00],\n",
       "         [ 0.00000000e+00,  0.00000000e+00,  0.00000000e+00, ...,\n",
       "           0.00000000e+00,  0.00000000e+00,  0.00000000e+00],\n",
       "         [ 0.00000000e+00,  0.00000000e+00,  0.00000000e+00, ...,\n",
       "           0.00000000e+00,  0.00000000e+00,  0.00000000e+00],\n",
       "         [ 0.00000000e+00,  0.00000000e+00,  0.00000000e+00, ...,\n",
       "           0.00000000e+00,  0.00000000e+00,  0.00000000e+00]],\n",
       "\n",
       "        [[ 0.00000000e+00,  0.00000000e+00,  0.00000000e+00, ...,\n",
       "           0.00000000e+00,  0.00000000e+00,  0.00000000e+00],\n",
       "         [ 0.00000000e+00,  0.00000000e+00,  0.00000000e+00, ...,\n",
       "           0.00000000e+00,  0.00000000e+00,  0.00000000e+00],\n",
       "         [ 0.00000000e+00,  0.00000000e+00,  0.00000000e+00, ...,\n",
       "           0.00000000e+00,  0.00000000e+00,  0.00000000e+00],\n",
       "         [ 0.00000000e+00,  0.00000000e+00,  0.00000000e+00, ...,\n",
       "           0.00000000e+00,  0.00000000e+00,  0.00000000e+00]]],\n",
       "\n",
       "\n",
       "       [[[ 0.00000000e+00,  0.00000000e+00,  0.00000000e+00, ...,\n",
       "           0.00000000e+00,  0.00000000e+00,  0.00000000e+00],\n",
       "         [ 2.00000000e-04,  0.00000000e+00,  0.00000000e+00, ...,\n",
       "           0.00000000e+00,  0.00000000e+00,  0.00000000e+00],\n",
       "         [ 0.00000000e+00,  0.00000000e+00,  0.00000000e+00, ...,\n",
       "           0.00000000e+00,  0.00000000e+00,  0.00000000e+00],\n",
       "         [ 0.00000000e+00,  0.00000000e+00,  0.00000000e+00, ...,\n",
       "           0.00000000e+00,  0.00000000e+00,  0.00000000e+00]],\n",
       "\n",
       "        [[ 0.00000000e+00,  0.00000000e+00,  0.00000000e+00, ...,\n",
       "           0.00000000e+00,  0.00000000e+00,  0.00000000e+00],\n",
       "         [ 0.00000000e+00,  2.00000000e-04,  0.00000000e+00, ...,\n",
       "           0.00000000e+00,  0.00000000e+00,  0.00000000e+00],\n",
       "         [ 0.00000000e+00,  0.00000000e+00,  0.00000000e+00, ...,\n",
       "           0.00000000e+00,  0.00000000e+00,  0.00000000e+00],\n",
       "         [ 0.00000000e+00,  0.00000000e+00,  0.00000000e+00, ...,\n",
       "           0.00000000e+00,  0.00000000e+00,  0.00000000e+00]],\n",
       "\n",
       "        [[ 0.00000000e+00,  0.00000000e+00,  0.00000000e+00, ...,\n",
       "           0.00000000e+00,  0.00000000e+00,  0.00000000e+00],\n",
       "         [ 6.20402126e-25,  1.52191358e-25,  2.00000000e-04, ...,\n",
       "           4.18567273e-25,  4.69943086e-25,  1.42928862e-25],\n",
       "         [ 5.67070848e-26,  9.01895726e-25,  5.83807804e-26, ...,\n",
       "           3.46408998e-25,  4.00287459e-25,  2.86987848e-25],\n",
       "         [ 6.77832942e-25,  9.49645560e-25,  5.90935574e-25, ...,\n",
       "           3.82325266e-25,  8.97731291e-25,  4.63239801e-25]],\n",
       "\n",
       "        ...,\n",
       "\n",
       "        [[ 0.00000000e+00,  0.00000000e+00,  0.00000000e+00, ...,\n",
       "           0.00000000e+00,  0.00000000e+00,  0.00000000e+00],\n",
       "         [ 2.48160850e-24,  6.08765433e-25,  3.43583712e-25, ...,\n",
       "           2.00000000e-04,  1.87977235e-24,  5.71715447e-25],\n",
       "         [ 2.26828339e-25,  3.60758291e-24,  2.33523122e-25, ...,\n",
       "           1.38563599e-24,  1.60114984e-24,  1.14795139e-24],\n",
       "         [ 2.71133177e-24,  3.79858224e-24,  2.36374230e-24, ...,\n",
       "           1.52930106e-24,  3.59092516e-24,  1.85295920e-24]],\n",
       "\n",
       "        [[ 0.00000000e+00,  0.00000000e+00,  0.00000000e+00, ...,\n",
       "           0.00000000e+00,  0.00000000e+00,  0.00000000e+00],\n",
       "         [ 2.48160850e-24,  6.08765433e-25,  3.43583712e-25, ...,\n",
       "           1.67426909e-24,  2.00000000e-04,  5.71715447e-25],\n",
       "         [ 2.26828339e-25,  3.60758291e-24,  2.33523122e-25, ...,\n",
       "           1.38563599e-24,  1.60114984e-24,  1.14795139e-24],\n",
       "         [ 2.71133177e-24,  3.79858224e-24,  2.36374230e-24, ...,\n",
       "           1.52930106e-24,  3.59092516e-24,  1.85295920e-24]],\n",
       "\n",
       "        [[ 0.00000000e+00,  0.00000000e+00,  0.00000000e+00, ...,\n",
       "           0.00000000e+00,  0.00000000e+00,  0.00000000e+00],\n",
       "         [ 0.00000000e+00,  0.00000000e+00,  0.00000000e+00, ...,\n",
       "           0.00000000e+00,  0.00000000e+00,  2.00000000e-04],\n",
       "         [ 0.00000000e+00,  0.00000000e+00,  0.00000000e+00, ...,\n",
       "           0.00000000e+00,  0.00000000e+00,  0.00000000e+00],\n",
       "         [ 0.00000000e+00,  0.00000000e+00,  0.00000000e+00, ...,\n",
       "           0.00000000e+00,  0.00000000e+00,  0.00000000e+00]]],\n",
       "\n",
       "\n",
       "       [[[ 0.00000000e+00,  0.00000000e+00,  0.00000000e+00, ...,\n",
       "           0.00000000e+00,  0.00000000e+00,  0.00000000e+00],\n",
       "         [ 3.10201063e-25,  7.60956791e-26,  4.29479641e-26, ...,\n",
       "           2.09283637e-25,  2.34971543e-25,  7.14644309e-26],\n",
       "         [ 2.00000000e-04,  4.50947863e-25,  2.91903902e-26, ...,\n",
       "           1.73204499e-25,  2.00143730e-25,  1.43493924e-25],\n",
       "         [ 3.38916471e-25,  4.74822780e-25,  2.95467787e-25, ...,\n",
       "           1.91162633e-25,  4.48865645e-25,  2.31619900e-25]],\n",
       "\n",
       "        [[ 0.00000000e+00,  0.00000000e+00,  0.00000000e+00, ...,\n",
       "           0.00000000e+00,  0.00000000e+00,  0.00000000e+00],\n",
       "         [ 0.00000000e+00,  0.00000000e+00,  0.00000000e+00, ...,\n",
       "           0.00000000e+00,  0.00000000e+00,  0.00000000e+00],\n",
       "         [ 0.00000000e+00,  2.00000000e-04,  0.00000000e+00, ...,\n",
       "           0.00000000e+00,  0.00000000e+00,  0.00000000e+00],\n",
       "         [ 0.00000000e+00,  0.00000000e+00,  0.00000000e+00, ...,\n",
       "           0.00000000e+00,  0.00000000e+00,  0.00000000e+00]],\n",
       "\n",
       "        [[ 0.00000000e+00,  0.00000000e+00,  0.00000000e+00, ...,\n",
       "           0.00000000e+00,  0.00000000e+00,  0.00000000e+00],\n",
       "         [ 0.00000000e+00,  0.00000000e+00,  0.00000000e+00, ...,\n",
       "           0.00000000e+00,  0.00000000e+00,  0.00000000e+00],\n",
       "         [ 0.00000000e+00,  0.00000000e+00,  2.00000000e-04, ...,\n",
       "           0.00000000e+00,  0.00000000e+00,  0.00000000e+00],\n",
       "         [ 0.00000000e+00,  0.00000000e+00,  0.00000000e+00, ...,\n",
       "           0.00000000e+00,  0.00000000e+00,  0.00000000e+00]],\n",
       "\n",
       "        ...,\n",
       "\n",
       "        [[ 0.00000000e+00,  0.00000000e+00,  0.00000000e+00, ...,\n",
       "           0.00000000e+00,  0.00000000e+00,  0.00000000e+00],\n",
       "         [ 2.48160850e-24,  6.08765433e-25,  3.43583712e-25, ...,\n",
       "           1.67426909e-24,  1.87977235e-24,  5.71715447e-25],\n",
       "         [ 2.26828339e-25,  3.60758291e-24,  2.33523122e-25, ...,\n",
       "           2.00000000e-04,  1.60114984e-24,  1.14795139e-24],\n",
       "         [ 2.71133177e-24,  3.79858224e-24,  2.36374230e-24, ...,\n",
       "           1.52930106e-24,  3.59092516e-24,  1.85295920e-24]],\n",
       "\n",
       "        [[ 0.00000000e+00,  0.00000000e+00,  0.00000000e+00, ...,\n",
       "           0.00000000e+00,  0.00000000e+00,  0.00000000e+00],\n",
       "         [ 0.00000000e+00,  0.00000000e+00,  0.00000000e+00, ...,\n",
       "           0.00000000e+00,  0.00000000e+00,  0.00000000e+00],\n",
       "         [ 0.00000000e+00,  0.00000000e+00,  0.00000000e+00, ...,\n",
       "           0.00000000e+00,  2.00000000e-04,  0.00000000e+00],\n",
       "         [ 0.00000000e+00,  0.00000000e+00,  0.00000000e+00, ...,\n",
       "           0.00000000e+00,  0.00000000e+00,  0.00000000e+00]],\n",
       "\n",
       "        [[ 0.00000000e+00,  0.00000000e+00,  0.00000000e+00, ...,\n",
       "           0.00000000e+00,  0.00000000e+00,  0.00000000e+00],\n",
       "         [ 0.00000000e+00,  0.00000000e+00,  0.00000000e+00, ...,\n",
       "           0.00000000e+00,  0.00000000e+00,  0.00000000e+00],\n",
       "         [ 0.00000000e+00,  0.00000000e+00,  0.00000000e+00, ...,\n",
       "           0.00000000e+00,  0.00000000e+00,  2.00000000e-04],\n",
       "         [ 0.00000000e+00,  0.00000000e+00,  0.00000000e+00, ...,\n",
       "           0.00000000e+00,  0.00000000e+00,  0.00000000e+00]]],\n",
       "\n",
       "\n",
       "       [[[ 0.00000000e+00,  0.00000000e+00,  0.00000000e+00, ...,\n",
       "           0.00000000e+00,  0.00000000e+00,  0.00000000e+00],\n",
       "         [ 0.00000000e+00,  0.00000000e+00,  0.00000000e+00, ...,\n",
       "           0.00000000e+00,  0.00000000e+00,  0.00000000e+00],\n",
       "         [ 0.00000000e+00,  0.00000000e+00,  0.00000000e+00, ...,\n",
       "           0.00000000e+00,  0.00000000e+00,  0.00000000e+00],\n",
       "         [ 2.00000000e-04,  0.00000000e+00,  0.00000000e+00, ...,\n",
       "           0.00000000e+00,  0.00000000e+00,  0.00000000e+00]],\n",
       "\n",
       "        [[ 0.00000000e+00,  0.00000000e+00,  0.00000000e+00, ...,\n",
       "           0.00000000e+00,  0.00000000e+00,  0.00000000e+00],\n",
       "         [ 0.00000000e+00,  0.00000000e+00,  0.00000000e+00, ...,\n",
       "           0.00000000e+00,  0.00000000e+00,  0.00000000e+00],\n",
       "         [ 0.00000000e+00,  0.00000000e+00,  0.00000000e+00, ...,\n",
       "           0.00000000e+00,  0.00000000e+00,  0.00000000e+00],\n",
       "         [ 0.00000000e+00,  2.00000000e-04,  0.00000000e+00, ...,\n",
       "           0.00000000e+00,  0.00000000e+00,  0.00000000e+00]],\n",
       "\n",
       "        [[ 0.00000000e+00,  0.00000000e+00,  0.00000000e+00, ...,\n",
       "           0.00000000e+00,  0.00000000e+00,  0.00000000e+00],\n",
       "         [ 4.96321701e-24,  1.21753087e-24,  6.87167425e-25, ...,\n",
       "           3.34853819e-24,  3.75954469e-24,  1.14343089e-24],\n",
       "         [ 4.53656679e-25,  7.21516581e-24,  4.67046243e-25, ...,\n",
       "           2.77127198e-24,  3.20229967e-24,  2.29590278e-24],\n",
       "         [ 5.42266354e-24,  7.59716448e-24,  2.00000000e-04, ...,\n",
       "           3.05860213e-24,  7.18185033e-24,  3.70591841e-24]],\n",
       "\n",
       "        ...,\n",
       "\n",
       "        [[ 0.00000000e+00,  0.00000000e+00,  0.00000000e+00, ...,\n",
       "           0.00000000e+00,  0.00000000e+00,  0.00000000e+00],\n",
       "         [ 2.48160850e-24,  6.08765433e-25,  3.43583712e-25, ...,\n",
       "           1.67426909e-24,  1.87977235e-24,  5.71715447e-25],\n",
       "         [ 2.26828339e-25,  3.60758291e-24,  2.33523122e-25, ...,\n",
       "           1.38563599e-24,  1.60114984e-24,  1.14795139e-24],\n",
       "         [ 2.71133177e-24,  3.79858224e-24,  2.36374230e-24, ...,\n",
       "           2.00000000e-04,  3.59092516e-24,  1.85295920e-24]],\n",
       "\n",
       "        [[ 0.00000000e+00,  0.00000000e+00,  0.00000000e+00, ...,\n",
       "           0.00000000e+00,  0.00000000e+00,  0.00000000e+00],\n",
       "         [ 0.00000000e+00,  0.00000000e+00,  0.00000000e+00, ...,\n",
       "           0.00000000e+00,  0.00000000e+00,  0.00000000e+00],\n",
       "         [ 0.00000000e+00,  0.00000000e+00,  0.00000000e+00, ...,\n",
       "           0.00000000e+00,  0.00000000e+00,  0.00000000e+00],\n",
       "         [ 0.00000000e+00,  0.00000000e+00,  0.00000000e+00, ...,\n",
       "           0.00000000e+00,  2.00000000e-04,  0.00000000e+00]],\n",
       "\n",
       "        [[ 0.00000000e+00,  0.00000000e+00,  0.00000000e+00, ...,\n",
       "           0.00000000e+00,  0.00000000e+00,  0.00000000e+00],\n",
       "         [-2.48160850e-24, -6.08765433e-25, -3.43583712e-25, ...,\n",
       "          -1.67426909e-24, -1.87977235e-24, -5.71715447e-25],\n",
       "         [-2.26828339e-25, -3.60758291e-24, -2.33523122e-25, ...,\n",
       "          -1.38563599e-24, -1.60114984e-24, -1.14795139e-24],\n",
       "         [-2.71133177e-24, -3.79858224e-24, -2.36374230e-24, ...,\n",
       "          -1.52930106e-24, -3.59092516e-24,  2.00000000e-04]]]])"
      ]
     },
     "execution_count": 468,
     "metadata": {},
     "output_type": "execute_result"
    }
   ],
   "source": [
    "hess_eval"
   ]
  },
  {
   "cell_type": "code",
   "execution_count": 562,
   "metadata": {},
   "outputs": [],
   "source": [
    "###"
   ]
  },
  {
   "cell_type": "code",
   "execution_count": null,
   "metadata": {},
   "outputs": [],
   "source": [
    "alpha = 0.1\n",
    "its = 1#200\n",
    "wh, ch, mch = gradient_descent_class(g_mc_percept, alpha=alpha, max_its=its, w=w0, x=x_normed, y=y)\n",
    "#wh, ch, mch = newtons_method_class(g_mc_percept, max_its=its, w=w0, x=x, y=y)"
   ]
  },
  {
   "cell_type": "code",
   "execution_count": 411,
   "metadata": {},
   "outputs": [],
   "source": [
    "it_num = np.arange(0, its+1)"
   ]
  },
  {
   "cell_type": "code",
   "execution_count": 412,
   "metadata": {},
   "outputs": [
    {
     "data": {
      "text/plain": [
       "Text(0.5, 1.0, 'Multiclass Perceptron For Bubble Dataset')"
      ]
     },
     "execution_count": 412,
     "metadata": {},
     "output_type": "execute_result"
    },
    {
     "data": {
      "image/png": "[encoded data removed]",
      "text/plain": [
       "<Figure size 864x576 with 1 Axes>"
      ]
     },
     "metadata": {
      "needs_background": "light"
     },
     "output_type": "display_data"
    }
   ],
   "source": [
    "#for y_, c_ in zip(y_un, cs):\n",
    "plt.plot(it_num, ch, marker='o', markersize=2,) #label=f\"'one' label: {int(y_):1d}\")\n",
    "plt.xlabel(\"Iteration Number\")\n",
    "plt.ylabel(r'g(w)')\n",
    "plt.title('Multiclass Perceptron For Bubble Dataset')\n",
    "#plt.yscale('log')\n",
    "#plt.legend();"
   ]
  },
  {
   "cell_type": "code",
   "execution_count": 413,
   "metadata": {},
   "outputs": [],
   "source": [
    "w = wh[-1]"
   ]
  },
  {
   "cell_type": "code",
   "execution_count": 414,
   "metadata": {},
   "outputs": [],
   "source": [
    "model_eval = np.argmax(model(x_normed, w), axis=0)[np.newaxis, :]"
   ]
  },
  {
   "cell_type": "code",
   "execution_count": 415,
   "metadata": {},
   "outputs": [
    {
     "data": {
      "text/plain": [
       "array([1, 0, 1, ..., 1, 0, 0])"
      ]
     },
     "execution_count": 415,
     "metadata": {},
     "output_type": "execute_result"
    }
   ],
   "source": [
    "model_eval[y==0]"
   ]
  },
  {
   "cell_type": "code",
   "execution_count": 416,
   "metadata": {},
   "outputs": [],
   "source": [
    "corrects = model_eval == y"
   ]
  },
  {
   "cell_type": "code",
   "execution_count": 417,
   "metadata": {},
   "outputs": [
    {
     "data": {
      "text/plain": [
       "(954, 381, 21)"
      ]
     },
     "execution_count": 417,
     "metadata": {},
     "output_type": "execute_result"
    }
   ],
   "source": [
    "np.sum(corrects[y==0]), np.sum(corrects[y==1]), np.sum(corrects[y==2])"
   ]
  },
  {
   "cell_type": "code",
   "execution_count": 418,
   "metadata": {},
   "outputs": [
    {
     "data": {
      "text/plain": [
       "(0.4840182648401826, 0.4841168996188056, 0.84)"
      ]
     },
     "execution_count": 418,
     "metadata": {},
     "output_type": "execute_result"
    }
   ],
   "source": [
    "np.sum(corrects[y==0])/(y==0).sum(), np.sum(corrects[y==1])/(y==1).sum(), np.sum(corrects[y==2])/(y==2).sum()"
   ]
  },
  {
   "cell_type": "code",
   "execution_count": 419,
   "metadata": {},
   "outputs": [
    {
     "data": {
      "text/plain": [
       "1971"
      ]
     },
     "execution_count": 419,
     "metadata": {},
     "output_type": "execute_result"
    }
   ],
   "source": [
    "len(y[y==0])"
   ]
  },
  {
   "cell_type": "code",
   "execution_count": 420,
   "metadata": {},
   "outputs": [
    {
     "data": {
      "text/plain": [
       "50"
      ]
     },
     "execution_count": 420,
     "metadata": {},
     "output_type": "execute_result"
    }
   ],
   "source": [
    "y[y==2].sum()"
   ]
  },
  {
   "cell_type": "code",
   "execution_count": 421,
   "metadata": {},
   "outputs": [
    {
     "data": {
      "text/plain": [
       "array([[1, 0, 1, ..., 0, 0, 2]])"
      ]
     },
     "execution_count": 421,
     "metadata": {},
     "output_type": "execute_result"
    }
   ],
   "source": [
    "model_eval"
   ]
  },
  {
   "cell_type": "code",
   "execution_count": 422,
   "metadata": {},
   "outputs": [
    {
     "data": {
      "text/plain": [
       "array([[0, 0, 0, ..., 0, 0, 1]])"
      ]
     },
     "execution_count": 422,
     "metadata": {},
     "output_type": "execute_result"
    }
   ],
   "source": [
    "y"
   ]
  },
  {
   "cell_type": "code",
   "execution_count": 423,
   "metadata": {},
   "outputs": [],
   "source": [
    "N_correct = (model_eval == y).sum()"
   ]
  },
  {
   "cell_type": "code",
   "execution_count": 424,
   "metadata": {},
   "outputs": [
    {
     "data": {
      "text/plain": [
       "1356"
      ]
     },
     "execution_count": 424,
     "metadata": {},
     "output_type": "execute_result"
    }
   ],
   "source": [
    "N_correct"
   ]
  },
  {
   "cell_type": "code",
   "execution_count": 425,
   "metadata": {},
   "outputs": [],
   "source": [
    "N_misclassified = y.size - N_correct"
   ]
  },
  {
   "cell_type": "code",
   "execution_count": 426,
   "metadata": {},
   "outputs": [
    {
     "data": {
      "text/plain": [
       "1427"
      ]
     },
     "execution_count": 426,
     "metadata": {},
     "output_type": "execute_result"
    }
   ],
   "source": [
    "N_misclassified"
   ]
  },
  {
   "cell_type": "code",
   "execution_count": 427,
   "metadata": {},
   "outputs": [
    {
     "data": {
      "text/plain": [
       "0.4872439813151276"
      ]
     },
     "execution_count": 427,
     "metadata": {},
     "output_type": "execute_result"
    }
   ],
   "source": [
    "N_correct / y.size"
   ]
  },
  {
   "cell_type": "code",
   "execution_count": 428,
   "metadata": {},
   "outputs": [
    {
     "data": {
      "text/plain": [
       "array([5697619, 5697558, 5697508, 5697474, 5697455, 5697440, 5697434,\n",
       "       5697427, 5697423, 5697416, 5697407, 5697402, 5697394, 5697392,\n",
       "       5697385, 5697379, 5697375, 5697371, 5697366, 5697357, 5697353,\n",
       "       5697349, 5697348, 5697343, 5697343, 5697339, 5697339, 5697335,\n",
       "       5697334, 5697333, 5697330, 5697329, 5697328, 5697329, 5697328,\n",
       "       5697327, 5697322, 5697322, 5697322, 5697322, 5697319, 5697319,\n",
       "       5697319, 5697319, 5697317, 5697317, 5697311, 5697311, 5697310,\n",
       "       5697310, 5697308, 5697308, 5697304, 5697304, 5697304, 5697303,\n",
       "       5697303, 5697303, 5697303, 5697303, 5697301, 5697301, 5697301,\n",
       "       5697295, 5697295, 5697295, 5697295, 5697295, 5697295, 5697294,\n",
       "       5697294, 5697294, 5697293, 5697293, 5697293, 5697292, 5697292,\n",
       "       5697291, 5697291, 5697291, 5697290, 5697288, 5697288, 5697288,\n",
       "       5697288, 5697288, 5697288, 5697288, 5697288, 5697287, 5697287,\n",
       "       5697286, 5697285, 5697285, 5697285, 5697285, 5697285, 5697284,\n",
       "       5697284, 5697284, 5697284, 5697282, 5697282, 5697282, 5697281,\n",
       "       5697281, 5697280, 5697279, 5697279, 5697279, 5697279, 5697279,\n",
       "       5697279, 5697279, 5697280, 5697280, 5697280, 5697280, 5697280,\n",
       "       5697280, 5697283, 5697282, 5697292, 5697292, 5697292, 5697292,\n",
       "       5697292, 5697292, 5697292, 5697291, 5697289, 5697289, 5697289,\n",
       "       5697288, 5697288, 5697288, 5697288, 5697288, 5697288, 5697287,\n",
       "       5697287, 5697287, 5697287, 5697287, 5697287, 5697287, 5697287,\n",
       "       5697287, 5697287, 5697287, 5697287, 5697286, 5697288, 5697288,\n",
       "       5697292, 5697292, 5697292, 5697290, 5697290, 5697290, 5697290,\n",
       "       5697290, 5697290, 5697290, 5697290, 5697290, 5697290, 5697290,\n",
       "       5697290, 5697290, 5697290, 5697290, 5697288, 5697288, 5697288,\n",
       "       5697288, 5697288, 5697288, 5697290, 5697290, 5697290, 5697290,\n",
       "       5697290, 5697290, 5697290, 5697290, 5697289, 5697289, 5697289,\n",
       "       5697289, 5697287, 5697287, 5697291, 5697291, 5697291, 5697290,\n",
       "       5697290, 5697290, 5697290, 5697289, 5697289])"
      ]
     },
     "execution_count": 428,
     "metadata": {},
     "output_type": "execute_result"
    }
   ],
   "source": [
    "mch"
   ]
  },
  {
   "cell_type": "code",
   "execution_count": 429,
   "metadata": {},
   "outputs": [],
   "source": [
    "mch_true = []\n",
    "for w in wh:\n",
    "    model_eval = np.argmax(model(x_normed, w), axis=0)[np.newaxis, :]\n",
    "    N_correct = (model_eval == y).sum()\n",
    "    N_misclassified = y.size - N_correct\n",
    "    mch_true.append(N_misclassified)\n",
    "mch_true = np.array(mch_true)"
   ]
  },
  {
   "cell_type": "code",
   "execution_count": 430,
   "metadata": {},
   "outputs": [
    {
     "data": {
      "text/plain": [
       "array([2783, 2783, 2652, 2468, 2438, 2419, 2384, 2394, 2383, 2259, 1791,\n",
       "       1519, 1337, 1246, 1230, 1150, 1193, 1083, 1212, 1022, 1230, 1020,\n",
       "       1154,  978, 1163,  969, 1150,  944, 1146,  918, 1137,  900, 1094,\n",
       "        860, 1101,  852, 1110,  831, 1043,  795, 1104,  822,  908,  765,\n",
       "       1059,  761, 1150,  870,  846,  764, 1088,  773, 1283,  968,  686,\n",
       "       1215,  893,  764,  935,  707, 1458, 1028,  662, 1463,  940,  655,\n",
       "       1467,  904,  603, 1625,  866,  699, 1421,  876,  583, 1580,  739,\n",
       "        683, 1331,  915,  594, 1244,  569, 1862,  901,  973, 1187, 1598,\n",
       "        498, 1510,  757,  651, 1569,  821,  822, 1359, 1280,  443, 2064,\n",
       "        861,  713, 1502, 1020,  704, 1314, 1281,  536, 1485,  717,  583,\n",
       "       1428,  447, 2186,  909,  636, 1650,  884, 1844,  955,  888, 1358,\n",
       "        977, 1265,  438, 2046,  746,  624, 1413,  903,  453, 2220,  861,\n",
       "        523, 1913,  896, 1288,  976, 1415,  419, 2126,  815,  569, 1753,\n",
       "        857, 1804,  951,  806, 1316,  970, 1117,  401, 2232,  886,  551,\n",
       "       1801,  782, 1511,  962,  812, 1322,  968, 1100,  420, 2262,  899,\n",
       "        531, 1796,  787, 1437,  966,  981, 1033,  983, 1933,  569, 1041,\n",
       "       2055,  679,  973, 1373,  965,  569, 1241,  692, 1434,  950,  521,\n",
       "       2013,  923, 1293,  968, 1419,  394, 2247,  821,  451, 2096,  903,\n",
       "        696, 1330, 1427])"
      ]
     },
     "execution_count": 430,
     "metadata": {},
     "output_type": "execute_result"
    }
   ],
   "source": [
    "mch_true"
   ]
  },
  {
   "cell_type": "code",
   "execution_count": 431,
   "metadata": {},
   "outputs": [
    {
     "data": {
      "image/png": "[encoded data removed]",
      "text/plain": [
       "<Figure size 864x576 with 1 Axes>"
      ]
     },
     "metadata": {
      "needs_background": "light"
     },
     "output_type": "display_data"
    }
   ],
   "source": [
    "#for alpha in alphas:\n",
    "plt.plot(it_num, mch_true, marker='o', markersize=2, label=r\"$\\alpha =$\"+f\" {alpha:.4f}\")\n",
    "plt.xlabel(\"Iteration Number\")\n",
    "plt.ylabel(\"Number misclassifications\")\n",
    "#plt.yscale('log')\n",
    "plt.legend();"
   ]
  },
  {
   "cell_type": "code",
   "execution_count": 432,
   "metadata": {},
   "outputs": [
    {
     "data": {
      "text/plain": [
       "394"
      ]
     },
     "execution_count": 432,
     "metadata": {},
     "output_type": "execute_result"
    }
   ],
   "source": [
    "mch_true.min()"
   ]
  },
  {
   "cell_type": "code",
   "execution_count": 433,
   "metadata": {},
   "outputs": [
    {
     "data": {
      "text/plain": [
       "0.14157384117858426"
      ]
     },
     "execution_count": 433,
     "metadata": {},
     "output_type": "execute_result"
    }
   ],
   "source": [
    "mch_true.min() / y.size"
   ]
  },
  {
   "cell_type": "code",
   "execution_count": 445,
   "metadata": {},
   "outputs": [
    {
     "data": {
      "text/plain": [
       "1.0"
      ]
     },
     "execution_count": 445,
     "metadata": {},
     "output_type": "execute_result"
    }
   ],
   "source": [
    "mch_true[0] / y.size"
   ]
  },
  {
   "cell_type": "code",
   "execution_count": 447,
   "metadata": {},
   "outputs": [
    {
     "data": {
      "text/plain": [
       "2783"
      ]
     },
     "execution_count": 447,
     "metadata": {},
     "output_type": "execute_result"
    }
   ],
   "source": [
    "mch_true[0]"
   ]
  },
  {
   "cell_type": "code",
   "execution_count": 450,
   "metadata": {},
   "outputs": [
    {
     "data": {
      "text/plain": [
       "2783"
      ]
     },
     "execution_count": 450,
     "metadata": {},
     "output_type": "execute_result"
    }
   ],
   "source": [
    "y.size"
   ]
  },
  {
   "cell_type": "code",
   "execution_count": 434,
   "metadata": {},
   "outputs": [
    {
     "data": {
      "text/plain": [
       "192"
      ]
     },
     "execution_count": 434,
     "metadata": {},
     "output_type": "execute_result"
    }
   ],
   "source": [
    "i_best = mch_true.argmin()\n",
    "i_best"
   ]
  },
  {
   "cell_type": "code",
   "execution_count": 435,
   "metadata": {},
   "outputs": [
    {
     "data": {
      "text/plain": [
       "array([[1.84352362, 1.87132669, 1.63009175, ..., 0.60565837, 0.0756275 ,\n",
       "        0.63014402],\n",
       "       [0.59782167, 0.58391048, 0.74851283, ..., 0.29787477, 0.74113714,\n",
       "        0.04858272],\n",
       "       [0.73780093, 0.93937842, 0.82285071, ..., 0.00378158, 0.51610025,\n",
       "        0.30640527],\n",
       "       [0.03358072, 0.06517551, 0.25449868, ..., 0.33345182, 0.84101042,\n",
       "        0.47900659]])"
      ]
     },
     "execution_count": 435,
     "metadata": {},
     "output_type": "execute_result"
    }
   ],
   "source": [
    "wh[i_best]"
   ]
  },
  {
   "cell_type": "code",
   "execution_count": 436,
   "metadata": {},
   "outputs": [
    {
     "data": {
      "text/plain": [
       "0.20084169549174274"
      ]
     },
     "execution_count": 436,
     "metadata": {},
     "output_type": "execute_result"
    }
   ],
   "source": [
    "ch[i_best]"
   ]
  },
  {
   "cell_type": "code",
   "execution_count": 451,
   "metadata": {},
   "outputs": [
    {
     "data": {
      "text/plain": [
       "array([[1.84352362, 1.87132669, 1.63009175, ..., 0.60565837, 0.0756275 ,\n",
       "        0.63014402],\n",
       "       [0.59782167, 0.58391048, 0.74851283, ..., 0.29787477, 0.74113714,\n",
       "        0.04858272],\n",
       "       [0.73780093, 0.93937842, 0.82285071, ..., 0.00378158, 0.51610025,\n",
       "        0.30640527],\n",
       "       [0.03358072, 0.06517551, 0.25449868, ..., 0.33345182, 0.84101042,\n",
       "        0.47900659]])"
      ]
     },
     "execution_count": 451,
     "metadata": {},
     "output_type": "execute_result"
    }
   ],
   "source": [
    "wh[i_best]"
   ]
  },
  {
   "cell_type": "code",
   "execution_count": 437,
   "metadata": {},
   "outputs": [],
   "source": [
    "w = wh[i_best]"
   ]
  },
  {
   "cell_type": "code",
   "execution_count": 438,
   "metadata": {},
   "outputs": [],
   "source": [
    "model_eval = np.argmax(model(x_normed, w), axis=0)[np.newaxis, :]"
   ]
  },
  {
   "cell_type": "code",
   "execution_count": 439,
   "metadata": {},
   "outputs": [
    {
     "data": {
      "text/plain": [
       "array([0, 0, 0, ..., 0, 0, 0])"
      ]
     },
     "execution_count": 439,
     "metadata": {},
     "output_type": "execute_result"
    }
   ],
   "source": [
    "model_eval[y==0]"
   ]
  },
  {
   "cell_type": "code",
   "execution_count": 440,
   "metadata": {},
   "outputs": [],
   "source": [
    "corrects = model_eval == y"
   ]
  },
  {
   "cell_type": "code",
   "execution_count": 441,
   "metadata": {},
   "outputs": [
    {
     "data": {
      "text/plain": [
       "(1767, 618, 4)"
      ]
     },
     "execution_count": 441,
     "metadata": {},
     "output_type": "execute_result"
    }
   ],
   "source": [
    "np.sum(corrects[y==0]), np.sum(corrects[y==1]), np.sum(corrects[y==2])"
   ]
  },
  {
   "cell_type": "code",
   "execution_count": 442,
   "metadata": {},
   "outputs": [
    {
     "data": {
      "text/plain": [
       "(0.8964992389649924, 0.7852604828462516, 0.16)"
      ]
     },
     "execution_count": 442,
     "metadata": {},
     "output_type": "execute_result"
    }
   ],
   "source": [
    "np.sum(corrects[y==0])/(y==0).sum(), np.sum(corrects[y==1])/(y==1).sum(), np.sum(corrects[y==2])/(y==2).sum()"
   ]
  },
  {
   "cell_type": "code",
   "execution_count": 443,
   "metadata": {},
   "outputs": [
    {
     "data": {
      "text/plain": [
       "2783"
      ]
     },
     "execution_count": 443,
     "metadata": {},
     "output_type": "execute_result"
    }
   ],
   "source": [
    "y.size"
   ]
  },
  {
   "cell_type": "markdown",
   "metadata": {},
   "source": [
    "# Softmax"
   ]
  },
  {
   "cell_type": "code",
   "execution_count": 83,
   "metadata": {},
   "outputs": [],
   "source": [
    "def g_softmax(w):\n",
    "    # return softmax(w, x, y) # not normalized\n",
    "    return softmax(w, x_normed, y) # normalized\n",
    "    \n",
    "    #return softmax(w, x_normed, y) # normalized + weighted"
   ]
  },
  {
   "cell_type": "code",
   "execution_count": 103,
   "metadata": {},
   "outputs": [],
   "source": [
    "w0 = np.random.rand(x.shape[0]+1)"
   ]
  },
  {
   "cell_type": "code",
   "execution_count": 104,
   "metadata": {},
   "outputs": [
    {
     "data": {
      "text/plain": [
       "array([0.93859259, 0.68566871, 0.97221117, 0.51978734])"
      ]
     },
     "execution_count": 104,
     "metadata": {},
     "output_type": "execute_result"
    }
   ],
   "source": [
    "w0"
   ]
  },
  {
   "cell_type": "code",
   "execution_count": 105,
   "metadata": {},
   "outputs": [
    {
     "data": {
      "text/plain": [
       "0.5513611413353109"
      ]
     },
     "execution_count": 105,
     "metadata": {},
     "output_type": "execute_result"
    }
   ],
   "source": [
    "g_softmax(w0)"
   ]
  },
  {
   "cell_type": "code",
   "execution_count": 106,
   "metadata": {},
   "outputs": [],
   "source": [
    "#alphas = [2e-1, 1e-1, 1e-2]\n",
    "#its = 3000"
   ]
  },
  {
   "cell_type": "code",
   "execution_count": 108,
   "metadata": {},
   "outputs": [],
   "source": [
    "its = 200"
   ]
  },
  {
   "cell_type": "code",
   "execution_count": 109,
   "metadata": {},
   "outputs": [],
   "source": [
    "wh_dict = {f\"{alpha:.4f}\":[] for alpha in alphas}\n",
    "ch_dict = {f\"{alpha:.4f}\":[] for alpha in alphas}\n",
    "mc_dict = {f\"{alpha:.4f}\":[] for alpha in alphas}"
   ]
  },
  {
   "cell_type": "code",
   "execution_count": 110,
   "metadata": {},
   "outputs": [],
   "source": [
    "for alpha in alphas:\n",
    "    #wh, ch, mc = gradient_descent_class(g_softmax, alpha=alpha, max_its=its, w=w0, x=x_normed, y=y)\n",
    "    wh, ch, mc = newtons_method_class(g_softmax, max_its=its, w=w0, x=x_normed, y=y)\n",
    "    wh_dict[f\"{alpha:.4f}\"] = wh\n",
    "    ch_dict[f\"{alpha:.4f}\"] = ch\n",
    "    mc_dict[f\"{alpha:.4f}\"] = mc"
   ]
  },
  {
   "cell_type": "code",
   "execution_count": 111,
   "metadata": {},
   "outputs": [],
   "source": [
    "it_num = np.arange(0, its+1)"
   ]
  },
  {
   "cell_type": "code",
   "execution_count": 112,
   "metadata": {},
   "outputs": [
    {
     "data": {
      "image/png": "[encoded data removed]",
      "text/plain": [
       "<Figure size 864x576 with 1 Axes>"
      ]
     },
     "metadata": {
      "needs_background": "light"
     },
     "output_type": "display_data"
    }
   ],
   "source": [
    "for alpha in alphas:\n",
    "    plt.plot(it_num, ch_dict[f\"{alpha:.4f}\"], marker='o', markersize=2, label=r\"$\\alpha =$\"+f\" {alpha:.4f}\")\n",
    "plt.xlabel(\"Iteration Number\")\n",
    "plt.ylabel(r'g(w)')\n",
    "plt.yscale('log')\n",
    "plt.legend();"
   ]
  },
  {
   "cell_type": "code",
   "execution_count": 113,
   "metadata": {},
   "outputs": [
    {
     "data": {
      "image/png": "[encoded data removed]",
      "text/plain": [
       "<Figure size 864x576 with 1 Axes>"
      ]
     },
     "metadata": {
      "needs_background": "light"
     },
     "output_type": "display_data"
    }
   ],
   "source": [
    "for alpha in alphas:\n",
    "    plt.plot(it_num, mc_dict[f\"{alpha:.4f}\"], marker='o', markersize=2, label=r\"$\\alpha =$\"+f\" {alpha:.4f}\")\n",
    "plt.xlabel(\"Iteration Number\")\n",
    "plt.ylabel(\"Number misclassifications\")\n",
    "#plt.yscale('log')\n",
    "plt.legend();"
   ]
  },
  {
   "cell_type": "code",
   "execution_count": 102,
   "metadata": {},
   "outputs": [
    {
     "data": {
      "text/plain": [
       "2783"
      ]
     },
     "execution_count": 102,
     "metadata": {},
     "output_type": "execute_result"
    }
   ],
   "source": [
    "len(df_features)"
   ]
  },
  {
   "cell_type": "markdown",
   "metadata": {},
   "source": [
    "# Weighted Softmax\n",
    "- Weight by number of events in each class"
   ]
  },
  {
   "cell_type": "code",
   "execution_count": 83,
   "metadata": {},
   "outputs": [],
   "source": [
    "#def g_softmax(w):\n",
    "    # return softmax(w, x, y) # not normalized\n",
    "    #return softmax(w, x_normed, y) # normalized\n",
    "    \n",
    "    #return softmax(w, x_normed, y) # normalized + weighted"
   ]
  },
  {
   "cell_type": "code",
   "execution_count": 114,
   "metadata": {},
   "outputs": [],
   "source": [
    "w0 = np.random.rand(x.shape[0]+1)"
   ]
  },
  {
   "cell_type": "code",
   "execution_count": 115,
   "metadata": {},
   "outputs": [
    {
     "data": {
      "text/plain": [
       "array([0.49980159, 0.93060847, 0.25354502, 0.48650005])"
      ]
     },
     "execution_count": 115,
     "metadata": {},
     "output_type": "execute_result"
    }
   ],
   "source": [
    "w0"
   ]
  },
  {
   "cell_type": "code",
   "execution_count": 119,
   "metadata": {},
   "outputs": [],
   "source": [
    "betas = np.ones(x.shape[1])"
   ]
  },
  {
   "cell_type": "code",
   "execution_count": 124,
   "metadata": {},
   "outputs": [],
   "source": [
    "n0 = np.sum(y == 0)\n",
    "n1 = np.sum(y == 1)\n",
    "n2 = np.sum(y == 2)\n",
    "n3 = np.sum(y == 3)\n",
    "n4 = np.sum(y == 4)"
   ]
  },
  {
   "cell_type": "code",
   "execution_count": 125,
   "metadata": {},
   "outputs": [
    {
     "data": {
      "text/plain": [
       "(1971, 787, 25, 0, 0)"
      ]
     },
     "execution_count": 125,
     "metadata": {},
     "output_type": "execute_result"
    }
   ],
   "source": [
    "n0, n1, n2, n3, n4"
   ]
  },
  {
   "cell_type": "code",
   "execution_count": 126,
   "metadata": {},
   "outputs": [],
   "source": [
    "n_dict = {0:n0, 1:n1, 2:n2}"
   ]
  },
  {
   "cell_type": "code",
   "execution_count": 128,
   "metadata": {},
   "outputs": [
    {
     "data": {
      "text/plain": [
       "1971"
      ]
     },
     "execution_count": 128,
     "metadata": {},
     "output_type": "execute_result"
    }
   ],
   "source": [
    "n_dict[0]"
   ]
  },
  {
   "cell_type": "code",
   "execution_count": 131,
   "metadata": {},
   "outputs": [
    {
     "data": {
      "text/plain": [
       "array([0, 0, 0, ..., 0, 0, 1])"
      ]
     },
     "execution_count": 131,
     "metadata": {},
     "output_type": "execute_result"
    }
   ],
   "source": [
    "y.flatten()"
   ]
  },
  {
   "cell_type": "code",
   "execution_count": 132,
   "metadata": {},
   "outputs": [],
   "source": [
    "betas = np.array([1./n_dict[y_] for y_ in y.flatten()])"
   ]
  },
  {
   "cell_type": "code",
   "execution_count": 133,
   "metadata": {},
   "outputs": [
    {
     "data": {
      "text/plain": [
       "array([0.00050736, 0.00050736, 0.00050736, ..., 0.00050736, 0.00050736,\n",
       "       0.00127065])"
      ]
     },
     "execution_count": 133,
     "metadata": {},
     "output_type": "execute_result"
    }
   ],
   "source": [
    "betas"
   ]
  },
  {
   "cell_type": "code",
   "execution_count": 173,
   "metadata": {},
   "outputs": [],
   "source": [
    "w0 = np.random.rand(x.shape[0]+1)"
   ]
  },
  {
   "cell_type": "code",
   "execution_count": 174,
   "metadata": {},
   "outputs": [
    {
     "data": {
      "text/plain": [
       "0.0004026272381960501"
      ]
     },
     "execution_count": 174,
     "metadata": {},
     "output_type": "execute_result"
    }
   ],
   "source": [
    "weighted_softmax(w0, x_normed, y, betas)"
   ]
  },
  {
   "cell_type": "code",
   "execution_count": 172,
   "metadata": {},
   "outputs": [
    {
     "data": {
      "text/plain": [
       "array([0.00050736, 0.00050736, 0.00050736, ..., 0.00050736, 0.00050736,\n",
       "       0.00127065])"
      ]
     },
     "execution_count": 172,
     "metadata": {},
     "output_type": "execute_result"
    }
   ],
   "source": [
    "betas"
   ]
  },
  {
   "cell_type": "code",
   "execution_count": 175,
   "metadata": {},
   "outputs": [],
   "source": [
    "def g_soft_weighted(w):\n",
    "    return weighted_softmax(w, x_normed, y, betas)"
   ]
  },
  {
   "cell_type": "code",
   "execution_count": 176,
   "metadata": {},
   "outputs": [
    {
     "data": {
      "text/plain": [
       "0.0004026272381960501"
      ]
     },
     "execution_count": 176,
     "metadata": {},
     "output_type": "execute_result"
    }
   ],
   "source": [
    "g_soft_weighted(w0)"
   ]
  },
  {
   "cell_type": "code",
   "execution_count": 106,
   "metadata": {},
   "outputs": [],
   "source": [
    "#alphas = [2e-1, 1e-1, 1e-2]\n",
    "#its = 3000"
   ]
  },
  {
   "cell_type": "code",
   "execution_count": 177,
   "metadata": {},
   "outputs": [],
   "source": [
    "its = 200"
   ]
  },
  {
   "cell_type": "code",
   "execution_count": 178,
   "metadata": {},
   "outputs": [],
   "source": [
    "wh_dict = {f\"{alpha:.4f}\":[] for alpha in alphas}\n",
    "ch_dict = {f\"{alpha:.4f}\":[] for alpha in alphas}\n",
    "mc_dict = {f\"{alpha:.4f}\":[] for alpha in alphas}"
   ]
  },
  {
   "cell_type": "code",
   "execution_count": 179,
   "metadata": {},
   "outputs": [],
   "source": [
    "for alpha in alphas:\n",
    "    #wh, ch, mc = gradient_descent_class(g_softmax, alpha=alpha, max_its=its, w=w0, x=x_normed, y=y)\n",
    "    wh, ch, mc = newtons_method_class(g_soft_weighted, max_its=its, w=w0, x=x_normed, y=y)\n",
    "    wh_dict[f\"{alpha:.4f}\"] = wh\n",
    "    ch_dict[f\"{alpha:.4f}\"] = ch\n",
    "    mc_dict[f\"{alpha:.4f}\"] = mc"
   ]
  },
  {
   "cell_type": "code",
   "execution_count": 180,
   "metadata": {},
   "outputs": [],
   "source": [
    "it_num = np.arange(0, its+1)"
   ]
  },
  {
   "cell_type": "code",
   "execution_count": 181,
   "metadata": {},
   "outputs": [
    {
     "data": {
      "image/png": "[encoded data removed]",
      "text/plain": [
       "<Figure size 864x576 with 1 Axes>"
      ]
     },
     "metadata": {
      "needs_background": "light"
     },
     "output_type": "display_data"
    }
   ],
   "source": [
    "for alpha in alphas:\n",
    "    plt.plot(it_num, ch_dict[f\"{alpha:.4f}\"], marker='o', markersize=2, label=r\"$\\alpha =$\"+f\" {alpha:.4f}\")\n",
    "plt.xlabel(\"Iteration Number\")\n",
    "plt.ylabel(r'g(w)')\n",
    "plt.yscale('log')\n",
    "plt.legend();"
   ]
  },
  {
   "cell_type": "code",
   "execution_count": 182,
   "metadata": {},
   "outputs": [
    {
     "data": {
      "image/png": "[encoded data removed]",
      "text/plain": [
       "<Figure size 864x576 with 1 Axes>"
      ]
     },
     "metadata": {
      "needs_background": "light"
     },
     "output_type": "display_data"
    }
   ],
   "source": [
    "for alpha in alphas:\n",
    "    plt.plot(it_num, mc_dict[f\"{alpha:.4f}\"], marker='o', markersize=2, label=r\"$\\alpha =$\"+f\" {alpha:.4f}\")\n",
    "plt.xlabel(\"Iteration Number\")\n",
    "plt.ylabel(\"Number misclassifications\")\n",
    "#plt.yscale('log')\n",
    "plt.legend();"
   ]
  },
  {
   "cell_type": "code",
   "execution_count": 183,
   "metadata": {},
   "outputs": [
    {
     "data": {
      "text/plain": [
       "2783"
      ]
     },
     "execution_count": 183,
     "metadata": {},
     "output_type": "execute_result"
    }
   ],
   "source": [
    "len(df_features)"
   ]
  },
  {
   "cell_type": "code",
   "execution_count": null,
   "metadata": {},
   "outputs": [],
   "source": []
  },
  {
   "cell_type": "code",
   "execution_count": null,
   "metadata": {},
   "outputs": [],
   "source": []
  }
 ],
 "metadata": {
  "kernelspec": {
   "display_name": "Python [conda env:bubbles]",
   "language": "python",
   "name": "conda-env-bubbles-py"
  },
  "language_info": {
   "codemirror_mode": {
    "name": "ipython",
    "version": 3
   },
   "file_extension": ".py",
   "mimetype": "text/x-python",
   "name": "python",
   "nbconvert_exporter": "python",
   "pygments_lexer": "ipython3",
   "version": "3.8.2"
  }
 },
 "nbformat": 4,
 "nbformat_minor": 4
}
