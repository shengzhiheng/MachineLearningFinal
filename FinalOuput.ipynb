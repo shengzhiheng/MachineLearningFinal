{
 "cells": [
  {
   "cell_type": "markdown",
   "metadata": {},
   "source": [
    "# Introduction\n",
    "\n",
    "Explain problem, show images of trig and first, show diff"
   ]
  },
  {
   "cell_type": "code",
   "execution_count": 1,
   "metadata": {},
   "outputs": [],
   "source": [
    "import numpy as np"
   ]
  },
  {
   "cell_type": "markdown",
   "metadata": {},
   "source": [
    "# Class def. Stuff"
   ]
  },
  {
   "cell_type": "code",
   "execution_count": 2,
   "metadata": {},
   "outputs": [],
   "source": [
    "class BubbleEvent:\n",
    "    def __init__(self, File):\n",
    "        #temp pixel arrays and event level meta data\n",
    "        self.FileName = File\n",
    "        Bot1PixelArray, Bot2PixelArray = BubbleEvent.GetPixelArray(self.FileName) #gets 2d array of pixel intensities\n",
    "        self.Date, self.Run, self.EventID = BubbleEvent.GetRunInfo(self.FileName) #parses image name to get event info\n",
    "        self.BubbleCount = 0\n",
    "        #actual features to use to classify\n",
    "        self.UsefulEdgeFeature0, self.UsefulEdgeFeature1, self.UsefulEdgeFeature2 = (GetEdgeFeature(\n",
    "                                        DownSampleTheArray(2, Bot1PixelArray)) + \n",
    "                                        GetEdgeFeature(DownSampleTheArray(2, Bot2PixelArray))) #edge detect. sum\n",
    "        self.UsefulBlobFeature = np.std(GetBlobs(Bot1PixelArray)) + np.std(GetBlobs(Bot2PixelArray)) #blob convalution deviation\n",
    "        self.CountBlobPeakFeature = GetPeaks(Bot1PixelArray) + GetPeaks(Bot2PixelArray)\n",
    "    def GetPixelArray(FileName):\n",
    "        im = Image.open(FileName)\n",
    "        PixelArray = np.asarray(im)\n",
    "        Cutout = Cutout2D(PixelArray, (530,140), 235) #just cut out the parts of the image with bottles\n",
    "        Bot1PixelArray = Cutout.data\n",
    "        PixelArray =ndimage.rotate(PixelArray, -45)\n",
    "        Cutout2 = Cutout2D(PixelArray, (270,310), 235) #other bottle view\n",
    "        Bot2PixelArray = Cutout2.data\n",
    "        return Bot1PixelArray, Bot2PixelArray\n",
    "    def GetRunInfo(File):\n",
    "        Date = int(File.split(\"/\")[-1].split(\"_\")[0]) #file should be date_run_event\n",
    "        Run = int(File.split(\"/\")[-1].split(\"_\")[1])\n",
    "        Event = int(\"{}{}{}\".format(Date, Run,File.split(\"/\")[-1].split(\"_\")[2])) \n",
    "        return Date, Run, Event"
   ]
  },
  {
   "cell_type": "markdown",
   "metadata": {},
   "source": []
  },
  {
   "cell_type": "markdown",
   "metadata": {},
   "source": [
    "# Perceptron Stuff"
   ]
  },
  {
   "cell_type": "code",
   "execution_count": null,
   "metadata": {},
   "outputs": [],
   "source": []
  },
  {
   "cell_type": "markdown",
   "metadata": {},
   "source": []
  },
  {
   "cell_type": "markdown",
   "metadata": {},
   "source": [
    "# Neural Net stuff"
   ]
  },
  {
   "cell_type": "code",
   "execution_count": null,
   "metadata": {},
   "outputs": [],
   "source": []
  },
  {
   "cell_type": "markdown",
   "metadata": {},
   "source": []
  }
 ],
 "metadata": {
  "kernelspec": {
   "display_name": "Python 3",
   "language": "python",
   "name": "python3"
  },
  "language_info": {
   "codemirror_mode": {
    "name": "ipython",
    "version": 3
   },
   "file_extension": ".py",
   "mimetype": "text/x-python",
   "name": "python",
   "nbconvert_exporter": "python",
   "pygments_lexer": "ipython3",
   "version": "3.7.6"
  }
 },
 "nbformat": 4,
 "nbformat_minor": 4
}
